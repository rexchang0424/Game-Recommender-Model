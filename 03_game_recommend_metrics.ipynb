{
 "cells": [
  {
   "cell_type": "markdown",
   "metadata": {},
   "source": [
    "# Game Recommender System to product\n",
    "---\n",
    "\n",
    "After an in depth EDA and data cleaning, we're finally at our last step of creating a recommender system. I will first perform SVD to reduce the dimensionality of my final game data this will increase the computational more efficiency. Then I will calculate the cosine similarity of each games of another, this will return as an array of values from -1 to 1. Lastly,I will create a search function that will search the game and return the top 20 most similar games along with the direct link to the game website."
   ]
  },
  {
   "cell_type": "markdown",
   "metadata": {},
   "source": [
    "### Table of Contents:\n",
    "\n",
    " 1. [Performing SVD](#Singular-Value-Decomposition-(SVD))\n",
    " 2. [Calculate Cosine Similarity](#Cosine-Similarity)\n",
    " 3. [Search Function](#Creating-a-search-function)\n",
    " ---"
   ]
  },
  {
   "cell_type": "code",
   "execution_count": 1,
   "metadata": {},
   "outputs": [],
   "source": [
    "import pandas as pd\n",
    "import numpy as np\n",
    "from sklearn.decomposition import TruncatedSVD\n",
    "from sklearn.metrics.pairwise import cosine_similarity\n",
    "import matplotlib.pyplot as plt\n",
    "from scipy import sparse\n",
    "\n",
    "%matplotlib inline"
   ]
  },
  {
   "cell_type": "markdown",
   "metadata": {},
   "source": [
    "## Import DataFrame "
   ]
  },
  {
   "cell_type": "code",
   "execution_count": 2,
   "metadata": {},
   "outputs": [],
   "source": [
    "game_lookup = pd.read_csv('./datas/game_lookup.csv', index_col='game_id')"
   ]
  },
  {
   "cell_type": "code",
   "execution_count": 3,
   "metadata": {},
   "outputs": [
    {
     "data": {
      "text/plain": [
       "(11557, 2)"
      ]
     },
     "execution_count": 3,
     "metadata": {},
     "output_type": "execute_result"
    }
   ],
   "source": [
    "game_lookup.shape"
   ]
  },
  {
   "cell_type": "markdown",
   "metadata": {},
   "source": [
    "I will sort the index (which is the game_id) from lowest to highest; this is to easier interpret the search function later."
   ]
  },
  {
   "cell_type": "code",
   "execution_count": 4,
   "metadata": {},
   "outputs": [],
   "source": [
    "game_lookup.sort_index(inplace=True)"
   ]
  },
  {
   "cell_type": "markdown",
   "metadata": {},
   "source": [
    "#### import the columns and index `csv` that I saved. Assigned into an array to merge into my game_final"
   ]
  },
  {
   "cell_type": "markdown",
   "metadata": {},
   "source": [
    "Because the game_final data is too large, if I saved it as a CSV it will take ages to save and load. Therefore; I separately saved out the columns and index to `csv`. Then save the DataFrame to `npz` files; then assigned the columns and index back."
   ]
  },
  {
   "cell_type": "code",
   "execution_count": 5,
   "metadata": {},
   "outputs": [],
   "source": [
    "columns = pd.read_csv('./datas/game_final_cols.csv', header = None)\n",
    "cols = np.array(columns[1])\n",
    "index = pd.read_csv('./datas/game_final_insdex.csv', header= None)\n",
    "ind = np.array(index[1])"
   ]
  },
  {
   "cell_type": "code",
   "execution_count": 6,
   "metadata": {
    "scrolled": true
   },
   "outputs": [],
   "source": [
    "game_final_coo = sparse.load_npz('./datas/game_final_coo.npz')\n",
    "\n",
    "game_final = pd.SparseDataFrame(game_final_coo, columns = cols, index=ind)\n",
    "\n"
   ]
  },
  {
   "cell_type": "code",
   "execution_count": 7,
   "metadata": {},
   "outputs": [
    {
     "data": {
      "text/html": [
       "<div>\n",
       "<style scoped>\n",
       "    .dataframe tbody tr th:only-of-type {\n",
       "        vertical-align: middle;\n",
       "    }\n",
       "\n",
       "    .dataframe tbody tr th {\n",
       "        vertical-align: top;\n",
       "    }\n",
       "\n",
       "    .dataframe thead th {\n",
       "        text-align: right;\n",
       "    }\n",
       "</style>\n",
       "<table border=\"1\" class=\"dataframe\">\n",
       "  <thead>\n",
       "    <tr style=\"text-align: right;\">\n",
       "      <th></th>\n",
       "      <th>abandon</th>\n",
       "      <th>abandoned</th>\n",
       "      <th>abducted</th>\n",
       "      <th>abilities</th>\n",
       "      <th>ability</th>\n",
       "      <th>able</th>\n",
       "      <th>aboard</th>\n",
       "      <th>abomination</th>\n",
       "      <th>abound</th>\n",
       "      <th>absolute</th>\n",
       "      <th>...</th>\n",
       "      <th>Multi-player</th>\n",
       "      <th>Nudity</th>\n",
       "      <th>RPG</th>\n",
       "      <th>Racing</th>\n",
       "      <th>Sexual Content</th>\n",
       "      <th>Simulation</th>\n",
       "      <th>Sports</th>\n",
       "      <th>Strategy</th>\n",
       "      <th>Violent</th>\n",
       "      <th>VR Support</th>\n",
       "    </tr>\n",
       "  </thead>\n",
       "  <tbody>\n",
       "    <tr>\n",
       "      <th>10</th>\n",
       "      <td>0.0</td>\n",
       "      <td>0.0</td>\n",
       "      <td>0.0</td>\n",
       "      <td>0.0</td>\n",
       "      <td>0.000000</td>\n",
       "      <td>0.0</td>\n",
       "      <td>0.0</td>\n",
       "      <td>0.0</td>\n",
       "      <td>0.0</td>\n",
       "      <td>0.0</td>\n",
       "      <td>...</td>\n",
       "      <td>1.0</td>\n",
       "      <td>0.0</td>\n",
       "      <td>0.0</td>\n",
       "      <td>0.0</td>\n",
       "      <td>0.0</td>\n",
       "      <td>0.0</td>\n",
       "      <td>0.0</td>\n",
       "      <td>0.0</td>\n",
       "      <td>0.0</td>\n",
       "      <td>0.0</td>\n",
       "    </tr>\n",
       "    <tr>\n",
       "      <th>20</th>\n",
       "      <td>0.0</td>\n",
       "      <td>0.0</td>\n",
       "      <td>0.0</td>\n",
       "      <td>0.0</td>\n",
       "      <td>0.116701</td>\n",
       "      <td>0.0</td>\n",
       "      <td>0.0</td>\n",
       "      <td>0.0</td>\n",
       "      <td>0.0</td>\n",
       "      <td>0.0</td>\n",
       "      <td>...</td>\n",
       "      <td>1.0</td>\n",
       "      <td>0.0</td>\n",
       "      <td>0.0</td>\n",
       "      <td>0.0</td>\n",
       "      <td>0.0</td>\n",
       "      <td>0.0</td>\n",
       "      <td>0.0</td>\n",
       "      <td>0.0</td>\n",
       "      <td>0.0</td>\n",
       "      <td>0.0</td>\n",
       "    </tr>\n",
       "    <tr>\n",
       "      <th>30</th>\n",
       "      <td>0.0</td>\n",
       "      <td>0.0</td>\n",
       "      <td>0.0</td>\n",
       "      <td>0.0</td>\n",
       "      <td>0.000000</td>\n",
       "      <td>0.0</td>\n",
       "      <td>0.0</td>\n",
       "      <td>0.0</td>\n",
       "      <td>0.0</td>\n",
       "      <td>0.0</td>\n",
       "      <td>...</td>\n",
       "      <td>1.0</td>\n",
       "      <td>0.0</td>\n",
       "      <td>0.0</td>\n",
       "      <td>0.0</td>\n",
       "      <td>0.0</td>\n",
       "      <td>0.0</td>\n",
       "      <td>0.0</td>\n",
       "      <td>0.0</td>\n",
       "      <td>0.0</td>\n",
       "      <td>0.0</td>\n",
       "    </tr>\n",
       "    <tr>\n",
       "      <th>40</th>\n",
       "      <td>0.0</td>\n",
       "      <td>0.0</td>\n",
       "      <td>0.0</td>\n",
       "      <td>0.0</td>\n",
       "      <td>0.000000</td>\n",
       "      <td>0.0</td>\n",
       "      <td>0.0</td>\n",
       "      <td>0.0</td>\n",
       "      <td>0.0</td>\n",
       "      <td>0.0</td>\n",
       "      <td>...</td>\n",
       "      <td>1.0</td>\n",
       "      <td>0.0</td>\n",
       "      <td>0.0</td>\n",
       "      <td>0.0</td>\n",
       "      <td>0.0</td>\n",
       "      <td>0.0</td>\n",
       "      <td>0.0</td>\n",
       "      <td>0.0</td>\n",
       "      <td>0.0</td>\n",
       "      <td>0.0</td>\n",
       "    </tr>\n",
       "    <tr>\n",
       "      <th>50</th>\n",
       "      <td>0.0</td>\n",
       "      <td>0.0</td>\n",
       "      <td>0.0</td>\n",
       "      <td>0.0</td>\n",
       "      <td>0.000000</td>\n",
       "      <td>0.0</td>\n",
       "      <td>0.0</td>\n",
       "      <td>0.0</td>\n",
       "      <td>0.0</td>\n",
       "      <td>0.0</td>\n",
       "      <td>...</td>\n",
       "      <td>1.0</td>\n",
       "      <td>0.0</td>\n",
       "      <td>0.0</td>\n",
       "      <td>0.0</td>\n",
       "      <td>0.0</td>\n",
       "      <td>0.0</td>\n",
       "      <td>0.0</td>\n",
       "      <td>0.0</td>\n",
       "      <td>0.0</td>\n",
       "      <td>0.0</td>\n",
       "    </tr>\n",
       "  </tbody>\n",
       "</table>\n",
       "<p>5 rows × 6760 columns</p>\n",
       "</div>"
      ],
      "text/plain": [
       "    abandon  abandoned  abducted  abilities   ability  able  aboard  \\\n",
       "10      0.0        0.0       0.0        0.0  0.000000   0.0     0.0   \n",
       "20      0.0        0.0       0.0        0.0  0.116701   0.0     0.0   \n",
       "30      0.0        0.0       0.0        0.0  0.000000   0.0     0.0   \n",
       "40      0.0        0.0       0.0        0.0  0.000000   0.0     0.0   \n",
       "50      0.0        0.0       0.0        0.0  0.000000   0.0     0.0   \n",
       "\n",
       "    abomination  abound  absolute  ...  Multi-player  Nudity  RPG  Racing  \\\n",
       "10          0.0     0.0       0.0  ...           1.0     0.0  0.0     0.0   \n",
       "20          0.0     0.0       0.0  ...           1.0     0.0  0.0     0.0   \n",
       "30          0.0     0.0       0.0  ...           1.0     0.0  0.0     0.0   \n",
       "40          0.0     0.0       0.0  ...           1.0     0.0  0.0     0.0   \n",
       "50          0.0     0.0       0.0  ...           1.0     0.0  0.0     0.0   \n",
       "\n",
       "    Sexual Content  Simulation  Sports  Strategy  Violent  VR Support  \n",
       "10             0.0         0.0     0.0       0.0      0.0         0.0  \n",
       "20             0.0         0.0     0.0       0.0      0.0         0.0  \n",
       "30             0.0         0.0     0.0       0.0      0.0         0.0  \n",
       "40             0.0         0.0     0.0       0.0      0.0         0.0  \n",
       "50             0.0         0.0     0.0       0.0      0.0         0.0  \n",
       "\n",
       "[5 rows x 6760 columns]"
      ]
     },
     "execution_count": 7,
     "metadata": {},
     "output_type": "execute_result"
    }
   ],
   "source": [
    "game_final.head()"
   ]
  },
  {
   "cell_type": "markdown",
   "metadata": {},
   "source": [
    "### Singular Value Decomposition (SVD)"
   ]
  },
  {
   "cell_type": "markdown",
   "metadata": {},
   "source": [
    "I will perform a SVD. SVD will reduce the dimensionality of my data, also known as singular value decomposition, it's really similar to PCA. the reason why I perform SVD is because it will be more computationally more efficient. Although SVD will reduce my data's dimensionality, but I won't lose any data, it creates new features.  "
   ]
  },
  {
   "cell_type": "code",
   "execution_count": 8,
   "metadata": {},
   "outputs": [
    {
     "data": {
      "text/plain": [
       "(11557, 20)"
      ]
     },
     "execution_count": 8,
     "metadata": {},
     "output_type": "execute_result"
    }
   ],
   "source": [
    "SVD = TruncatedSVD(n_components=20)\n",
    "svd_matrix = SVD.fit_transform(game_final)\n",
    "svd_matrix.shape"
   ]
  },
  {
   "cell_type": "markdown",
   "metadata": {},
   "source": [
    "I will create a variance graph on my SVD matrix. This can visually explain the percentage of the explained variance over my data. After trying with several n_components, 20 is the best fit in terms of explain my data."
   ]
  },
  {
   "cell_type": "code",
   "execution_count": 9,
   "metadata": {},
   "outputs": [],
   "source": [
    "def plot_explained_variance(svd_object, n_components):\n",
    "    fig = plt.figure(figsize=(20,15))\n",
    "    plt.bar(np.array(range(n_components))+1, \n",
    "            svd_object.explained_variance_ratio_, \n",
    "            color='g', \n",
    "            label='explained variance')\n",
    "    plt.plot(np.array(range(n_components))+1, \n",
    "             np.cumsum(svd_object.explained_variance_ratio_), \n",
    "             label='cumulative explained variance')\n",
    "    plt.legend()\n",
    "    plt.xlabel('component')\n",
    "    plt.ylabel('variance ratio')"
   ]
  },
  {
   "cell_type": "code",
   "execution_count": 10,
   "metadata": {},
   "outputs": [
    {
     "data": {
      "image/png": "[encoded data removed]",
      "text/plain": [
       "<Figure size 1440x1080 with 1 Axes>"
      ]
     },
     "metadata": {
      "needs_background": "light"
     },
     "output_type": "display_data"
    }
   ],
   "source": [
    "plot_explained_variance(SVD, 20)"
   ]
  },
  {
   "cell_type": "markdown",
   "metadata": {},
   "source": [
    "**What is this graph?**\n",
    "\n",
    "the cumulative explained variance curve on the above graph means that it will cover approximately 65% of my data after SVD (dimension reduction). Which have 20 component, in this case, each component will give me a weight of a feature."
   ]
  },
  {
   "cell_type": "markdown",
   "metadata": {},
   "source": [
    "## Cosine Similarity\n"
   ]
  },
  {
   "cell_type": "markdown",
   "metadata": {},
   "source": [
    "Input my data that performed SVD input Cosine similarity Matrix. Cosine Similarity method takes my case a vector array, then the cosine of each component are computed. From Sklearn definition: Compute cosine similarity between samples in X and Y. Cosine similarity, or the cosine kernel, computes similarity as the normalized dot product of X and Y:\n",
    "\n",
    "Cosine Similarity will produce result from -1 to 1. Where 1 mean this two games are extremely alike, -1 are the opposite, 0 means the two games are neutral."
   ]
  },
  {
   "cell_type": "code",
   "execution_count": 11,
   "metadata": {},
   "outputs": [
    {
     "data": {
      "text/plain": [
       "(11557, 11557)"
      ]
     },
     "execution_count": 11,
     "metadata": {},
     "output_type": "execute_result"
    }
   ],
   "source": [
    "cos_sim_mat = cosine_similarity(svd_matrix, svd_matrix)\n",
    "cos_sim_mat.shape"
   ]
  },
  {
   "cell_type": "markdown",
   "metadata": {},
   "source": [
    "After getting the cosine similarity for my games. I will need to create a search function that can search by the game title. So the similarity is giving me back the unique game_id. I will need to pair that with the game title that is the game_id. So I will create a dictionary that will have the name of the game as key and assigned a number as the value."
   ]
  },
  {
   "cell_type": "markdown",
   "metadata": {},
   "source": [
    "Creating a dict of unique game_id as the key and the title of the game as the value. So when search by the game_id, the name of the game will return."
   ]
  },
  {
   "cell_type": "code",
   "execution_count": 12,
   "metadata": {},
   "outputs": [],
   "source": [
    "game_id_title = dict(zip(game_lookup.index, game_lookup['title']))"
   ]
  },
  {
   "cell_type": "code",
   "execution_count": 13,
   "metadata": {},
   "outputs": [
    {
     "data": {
      "text/plain": [
       "'Counter Strike'"
      ]
     },
     "execution_count": 13,
     "metadata": {},
     "output_type": "execute_result"
    }
   ],
   "source": [
    "game_id_title[10]"
   ]
  },
  {
   "cell_type": "markdown",
   "metadata": {},
   "source": [
    "Creating a dict of index number as key and unique game_id as the value, if a number is input (as long the number is within the range of my dataset) this will return the unique game_id"
   ]
  },
  {
   "cell_type": "code",
   "execution_count": 14,
   "metadata": {},
   "outputs": [],
   "source": [
    "game_index_title  = dict(zip(range(len(svd_matrix)), game_final.index))"
   ]
  },
  {
   "cell_type": "code",
   "execution_count": 15,
   "metadata": {},
   "outputs": [
    {
     "data": {
      "text/plain": [
       "10"
      ]
     },
     "execution_count": 15,
     "metadata": {},
     "output_type": "execute_result"
    }
   ],
   "source": [
    "game_index_title[0]"
   ]
  },
  {
   "cell_type": "markdown",
   "metadata": {},
   "source": [
    "If I input a game name it will return a index number of that specific game"
   ]
  },
  {
   "cell_type": "code",
   "execution_count": 16,
   "metadata": {},
   "outputs": [],
   "source": [
    "game_search_dict = dict(zip([game_id_title[game_index_title[x]] for x in game_index_title], game_index_title))"
   ]
  },
  {
   "cell_type": "code",
   "execution_count": 17,
   "metadata": {},
   "outputs": [
    {
     "data": {
      "text/plain": [
       "0"
      ]
     },
     "execution_count": 17,
     "metadata": {},
     "output_type": "execute_result"
    }
   ],
   "source": [
    "game_search_dict['Counter Strike']"
   ]
  },
  {
   "cell_type": "markdown",
   "metadata": {},
   "source": [
    "# Creating a search function\n",
    "---"
   ]
  },
  {
   "cell_type": "markdown",
   "metadata": {},
   "source": [
    "I will create a search function that doesn't require user to input the full name of the game and it will search the series or any game contain that input. For example: FINAL FANTASY have a lot of different series. If user input that only. I will give you all the final fantasy series along with the recommended games and website to visit."
   ]
  },
  {
   "cell_type": "code",
   "execution_count": 18,
   "metadata": {},
   "outputs": [],
   "source": [
    "def game_recommender(game_name):\n",
    "    try:\n",
    "        for i in game_lookup[game_lookup['title'].str.contains(game_name)]['title'].values:\n",
    "            output_gameid = game_search_dict[i]\n",
    "            sim_dist = (cos_sim_mat[output_gameid]) \n",
    "            final = pd.DataFrame(list(zip(game_lookup.title.tolist(), sim_dist)), columns= ['game_name', 'sim_score'])\n",
    "            final.sort_values('sim_score', ascending=False, inplace=True)\n",
    "            final['game_website'] = ['https://store.steampowered.com/app/'+str(game_index_title[x]) for x in final.index]\n",
    "            print(f'Game Name: '+str(i))\n",
    "            print(final[1:20])\n",
    "            print(' ')\n",
    "            print('----------------------------------------------------------------------------------------------------------')\n",
    "    except:\n",
    "        print('Oops! No result were found, Please check your spelling and try again!')\n"
   ]
  },
  {
   "cell_type": "markdown",
   "metadata": {},
   "source": [
    "Team Fortress 2 is a first person cartoon style shooting game. Based on the result below, where I create a direct link to the specific game website at steam.\n",
    "\n",
    "- Dirty Bomb: Dirty Bomb is a first person cartoon style shooting game. That offer in different classes/characters. It's a multi-player game. \n",
    "- Gotham City Impostors: This is a Batman series based, cartoon style first person action game. This is a multi-player game.\n",
    "- America's Army : This is a realistic, first person action shooter that is also multi-player game.\n",
    "\n",
    "Based on above three games; we can clearly see the similar features that each game has. I personally played all those game before. This is a really good recommender. The reviews of the game is really good to that specific game as well. "
   ]
  },
  {
   "cell_type": "code",
   "execution_count": 19,
   "metadata": {},
   "outputs": [
    {
     "name": "stdout",
     "output_type": "stream",
     "text": [
      "Game Name: Team Fortress 2\n",
      "                                game_name  sim_score  \\\n",
      "3622                           Dirty Bomb   0.999859   \n",
      "1187  Gotham City Impostors: Free To Play   0.999603   \n",
      "1130      America's Army: Proving Grounds   0.999402   \n",
      "1529                             Warframe   0.999295   \n",
      "459                                 BRINK   0.999275   \n",
      "6160                             Paladins   0.999187   \n",
      "25       Counter Strike: Global Offensive   0.999024   \n",
      "5086                              WARMODE   0.998768   \n",
      "4958                                SMITE   0.998762   \n",
      "6829                      Hide and Shriek   0.998630   \n",
      "4242            Rumble Fighter: Unleashed   0.998494   \n",
      "3726                                Batla   0.997867   \n",
      "8572                          Switchblade   0.997848   \n",
      "378                        Tribes: Ascend   0.997609   \n",
      "8958                      Quake Champions   0.996512   \n",
      "7246                           Battlerite   0.994850   \n",
      "2326                       Evolve Stage 2   0.989851   \n",
      "1204                           Archeblade   0.870555   \n",
      "2183                     Fistful of Frags   0.870397   \n",
      "\n",
      "                                   game_website  \n",
      "3622  https://store.steampowered.com/app/333930  \n",
      "1187  https://store.steampowered.com/app/206210  \n",
      "1130  https://store.steampowered.com/app/203290  \n",
      "1529  https://store.steampowered.com/app/230410  \n",
      "459    https://store.steampowered.com/app/22350  \n",
      "6160  https://store.steampowered.com/app/444090  \n",
      "25       https://store.steampowered.com/app/730  \n",
      "5086  https://store.steampowered.com/app/391460  \n",
      "4958  https://store.steampowered.com/app/386360  \n",
      "6829  https://store.steampowered.com/app/480430  \n",
      "4242  https://store.steampowered.com/app/357500  \n",
      "3726  https://store.steampowered.com/app/338180  \n",
      "8572  https://store.steampowered.com/app/585630  \n",
      "378    https://store.steampowered.com/app/17080  \n",
      "8958  https://store.steampowered.com/app/611500  \n",
      "7246  https://store.steampowered.com/app/504370  \n",
      "2326  https://store.steampowered.com/app/273350  \n",
      "1204  https://store.steampowered.com/app/207230  \n",
      "2183  https://store.steampowered.com/app/265630  \n",
      " \n",
      "----------------------------------------------------------------------------------------------------------\n"
     ]
    }
   ],
   "source": [
    "game_recommender('Team Fortress 2')"
   ]
  },
  {
   "cell_type": "markdown",
   "metadata": {},
   "source": [
    "I will search a game called \"Final Fantasy\". This is a RPG game that is single player or multi-player depends on the series. Based on the search function I created, if Final Fantasy is entered. It will returned all the game that have final fantasy. Meaning all the series from this game will be search and return with 20 games that are similar to that specific Final Fantasy Series."
   ]
  },
  {
   "cell_type": "code",
   "execution_count": 20,
   "metadata": {
    "scrolled": false
   },
   "outputs": [
    {
     "name": "stdout",
     "output_type": "stream",
     "text": [
      "Game Name: FINAL FANTASY VII\n",
      "                                            game_name  sim_score  \\\n",
      "808                   Dragon Age: Origins   Awakening   0.999902   \n",
      "6958      The Elder Scrolls V: Skyrim Special Edition   0.999884   \n",
      "9067                                Elminage ORIGINAL   0.999850   \n",
      "718                             Risen 2   Dark Waters   0.999831   \n",
      "10221  Achievement Lurker: Respectable Accomplishment   0.999822   \n",
      "8025                                         ATOM RPG   0.999801   \n",
      "6222                                          7 Mages   0.999801   \n",
      "2685                               FINAL FANTASY XIII   0.999783   \n",
      "4697            The Deep Paths: Labyrinth Of Andokost   0.999782   \n",
      "5801                           The Gate of Firmament    0.999763   \n",
      "9277                                Nights of Azure 2   0.999744   \n",
      "314                                       Overlord II   0.999717   \n",
      "4758                                 FINAL FANTASY IX   0.999712   \n",
      "7588                                      LOST SPHEAR   0.999706   \n",
      "5487                           Stranger of Sword City   0.999696   \n",
      "693                                     Dungeon Siege   0.999695   \n",
      "471                                        Gyromancer   0.999686   \n",
      "712                                             Risen   0.999681   \n",
      "9524                                  BLUE REFLECTION   0.999665   \n",
      "\n",
      "                                    game_website  \n",
      "808     https://store.steampowered.com/app/47730  \n",
      "6958   https://store.steampowered.com/app/489830  \n",
      "9067   https://store.steampowered.com/app/618710  \n",
      "718     https://store.steampowered.com/app/40390  \n",
      "10221  https://store.steampowered.com/app/738000  \n",
      "8025   https://store.steampowered.com/app/552620  \n",
      "6222   https://store.steampowered.com/app/446590  \n",
      "2685   https://store.steampowered.com/app/292120  \n",
      "4697   https://store.steampowered.com/app/375500  \n",
      "5801   https://store.steampowered.com/app/427030  \n",
      "9277   https://store.steampowered.com/app/636570  \n",
      "314     https://store.steampowered.com/app/12810  \n",
      "4758   https://store.steampowered.com/app/377840  \n",
      "7588   https://store.steampowered.com/app/525240  \n",
      "5487   https://store.steampowered.com/app/409890  \n",
      "693     https://store.steampowered.com/app/39190  \n",
      "471     https://store.steampowered.com/app/23380  \n",
      "712     https://store.steampowered.com/app/40300  \n",
      "9524   https://store.steampowered.com/app/658260  \n",
      " \n",
      "----------------------------------------------------------------------------------------------------------\n",
      "Game Name: FINAL FANTASY VIII\n",
      "                                               game_name  sim_score  \\\n",
      "2428                                 The I of the Dragon   0.999823   \n",
      "1951                                             Enclave   0.999772   \n",
      "9374   RESONANCE OF FATE  END OF ETERNITY  4K HD EDITION   0.999640   \n",
      "1950                                       Septerra Core   0.999610   \n",
      "1718                            Omikron   The Nomad Soul   0.999577   \n",
      "708                                              ArcaniA   0.999575   \n",
      "4861                                     FINAL FANTASY V   0.999572   \n",
      "1431                           Sea Dogs: To Each His Own   0.999475   \n",
      "4734                                           Fallout 4   0.999443   \n",
      "7798          The Legend of Heroes: Trails of Cold Steel   0.999434   \n",
      "737                                           Torchlight   0.999418   \n",
      "499                                        Mass Effect 2   0.999378   \n",
      "10328      The Legend of Heroes: Trails of Cold Steel II   0.999302   \n",
      "10940                                     The 7th Circle   0.999288   \n",
      "1383                        Divinity II: Developer's Cut   0.999235   \n",
      "3960                   FINAL FANTASY IV: THE AFTER YEARS   0.999155   \n",
      "10110                                 Faith of Danschant   0.999152   \n",
      "3020              Heroes   Legends: Conquerors of Kolhar   0.999003   \n",
      "11464                                           Evenicle   0.998848   \n",
      "\n",
      "                                    game_website  \n",
      "2428   https://store.steampowered.com/app/279720  \n",
      "1951   https://store.steampowered.com/app/253980  \n",
      "9374   https://store.steampowered.com/app/645730  \n",
      "1950   https://store.steampowered.com/app/253940  \n",
      "1718   https://store.steampowered.com/app/243000  \n",
      "708     https://store.steampowered.com/app/39690  \n",
      "4861   https://store.steampowered.com/app/382890  \n",
      "1431   https://store.steampowered.com/app/223330  \n",
      "4734   https://store.steampowered.com/app/377160  \n",
      "7798   https://store.steampowered.com/app/538680  \n",
      "737     https://store.steampowered.com/app/41500  \n",
      "499     https://store.steampowered.com/app/24980  \n",
      "10328  https://store.steampowered.com/app/748490  \n",
      "10940  https://store.steampowered.com/app/832710  \n",
      "1383   https://store.steampowered.com/app/219780  \n",
      "3960   https://store.steampowered.com/app/346830  \n",
      "10110  https://store.steampowered.com/app/724970  \n",
      "3020   https://store.steampowered.com/app/306950  \n",
      "11464  https://store.steampowered.com/app/955560  \n",
      " \n",
      "----------------------------------------------------------------------------------------------------------\n",
      "Game Name: FINAL FANTASY V\n",
      "                                               game_name  sim_score  \\\n",
      "10110                                 Faith of Danschant   0.999814   \n",
      "1951                                             Enclave   0.999763   \n",
      "691                                   FINAL FANTASY VIII   0.999572   \n",
      "2632                                     Planet Alcatraz   0.999517   \n",
      "499                                        Mass Effect 2   0.999414   \n",
      "2428                                 The I of the Dragon   0.999352   \n",
      "1950                                       Septerra Core   0.999214   \n",
      "7798          The Legend of Heroes: Trails of Cold Steel   0.999141   \n",
      "708                                              ArcaniA   0.999138   \n",
      "9374   RESONANCE OF FATE  END OF ETERNITY  4K HD EDITION   0.999135   \n",
      "1718                            Omikron   The Nomad Soul   0.999113   \n",
      "1656                           Might   Magic X   Legacy    0.998961   \n",
      "1431                           Sea Dogs: To Each His Own   0.998781   \n",
      "11464                                           Evenicle   0.998703   \n",
      "1383                        Divinity II: Developer's Cut   0.998675   \n",
      "10328      The Legend of Heroes: Trails of Cold Steel II   0.998605   \n",
      "737                                           Torchlight   0.998559   \n",
      "4734                                           Fallout 4   0.998538   \n",
      "3020              Heroes   Legends: Conquerors of Kolhar   0.998517   \n",
      "\n",
      "                                    game_website  \n",
      "10110  https://store.steampowered.com/app/724970  \n",
      "1951   https://store.steampowered.com/app/253980  \n",
      "691     https://store.steampowered.com/app/39150  \n",
      "2632   https://store.steampowered.com/app/289420  \n",
      "499     https://store.steampowered.com/app/24980  \n",
      "2428   https://store.steampowered.com/app/279720  \n",
      "1950   https://store.steampowered.com/app/253940  \n",
      "7798   https://store.steampowered.com/app/538680  \n",
      "708     https://store.steampowered.com/app/39690  \n",
      "9374   https://store.steampowered.com/app/645730  \n",
      "1718   https://store.steampowered.com/app/243000  \n",
      "1656   https://store.steampowered.com/app/238750  \n",
      "1431   https://store.steampowered.com/app/223330  \n",
      "11464  https://store.steampowered.com/app/955560  \n",
      "1383   https://store.steampowered.com/app/219780  \n",
      "10328  https://store.steampowered.com/app/748490  \n",
      "737     https://store.steampowered.com/app/41500  \n",
      "4734   https://store.steampowered.com/app/377160  \n",
      "3020   https://store.steampowered.com/app/306950  \n",
      " \n",
      "----------------------------------------------------------------------------------------------------------\n",
      "Game Name: FINAL FANTASY VI\n",
      "                                     game_name  sim_score  \\\n",
      "2246                          Edge Of Eternity   0.999724   \n",
      "4630                        Tales of Symphonia   0.999671   \n",
      "10988                                Siralim 3   0.999597   \n",
      "2686                      FINAL FANTASY XIII 2   0.999575   \n",
      "457            The Elder Scrolls IV: Oblivion    0.999517   \n",
      "2961                 Faery   Legends of Avalon   0.999493   \n",
      "943                The Elder Scrolls V: Skyrim   0.999435   \n",
      "8043                                 Einlanzer   0.999420   \n",
      "186               Jade Empire: Special Edition   0.999342   \n",
      "5402                                Disgaea PC   0.999297   \n",
      "389                        Dragon Age: Origins   0.999284   \n",
      "9004                            CHRONO TRIGGER   0.999265   \n",
      "4521                                 CrossCode   0.999060   \n",
      "1820                     Risen 3   Titan Lords   0.998940   \n",
      "1860   The Legend of Heroes: Trails in the Sky   0.998798   \n",
      "616               Drakensang The River of Time   0.998711   \n",
      "310                                 Drakensang   0.998637   \n",
      "8606                          Tokyo Xanadu eX    0.998635   \n",
      "470                           The Last Remnant   0.998599   \n",
      "\n",
      "                                    game_website  \n",
      "2246   https://store.steampowered.com/app/269190  \n",
      "4630   https://store.steampowered.com/app/372360  \n",
      "10988  https://store.steampowered.com/app/841770  \n",
      "2686   https://store.steampowered.com/app/292140  \n",
      "457     https://store.steampowered.com/app/22330  \n",
      "2961   https://store.steampowered.com/app/303790  \n",
      "943     https://store.steampowered.com/app/72850  \n",
      "8043   https://store.steampowered.com/app/553760  \n",
      "186      https://store.steampowered.com/app/7110  \n",
      "5402   https://store.steampowered.com/app/405900  \n",
      "389     https://store.steampowered.com/app/17450  \n",
      "9004   https://store.steampowered.com/app/613830  \n",
      "4521   https://store.steampowered.com/app/368340  \n",
      "1820   https://store.steampowered.com/app/249230  \n",
      "1860   https://store.steampowered.com/app/251150  \n",
      "616     https://store.steampowered.com/app/33770  \n",
      "310     https://store.steampowered.com/app/12640  \n",
      "8606   https://store.steampowered.com/app/587260  \n",
      "470     https://store.steampowered.com/app/23310  \n",
      " \n",
      "----------------------------------------------------------------------------------------------------------\n"
     ]
    }
   ],
   "source": [
    "game_recommender('FINAL FANTASY V')"
   ]
  },
  {
   "cell_type": "code",
   "execution_count": null,
   "metadata": {},
   "outputs": [],
   "source": []
  }
 ],
 "metadata": {
  "kernelspec": {
   "display_name": "Python 3",
   "language": "python",
   "name": "python3"
  },
  "language_info": {
   "codemirror_mode": {
    "name": "ipython",
    "version": 3
   },
   "file_extension": ".py",
   "mimetype": "text/x-python",
   "name": "python",
   "nbconvert_exporter": "python",
   "pygments_lexer": "ipython3",
   "version": "3.6.6"
  }
 },
 "nbformat": 4,
 "nbformat_minor": 2
}
