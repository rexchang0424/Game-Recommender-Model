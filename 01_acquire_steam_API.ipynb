{
 "cells": [
  {
   "cell_type": "markdown",
   "metadata": {},
   "source": [
    "# Game Recommender System\n",
    "---\n",
    "\n",
    "### Problem Statement: \n",
    "\n",
    "There are more games in the market nowadays compared with several decades ago. This often leads hardcore PC Gamers or users that are newly introduced to game, to struggle to chose a specific game they will like to invest time or money on. \n",
    "\n",
    "My objective is to create a game recommender system to provide several game recommendations to users based on their input. Input like what's their favorite game? or what game they played recently that are interesting. This can help players that are looking for new games or gamer that just got introduced to PC gaming to recommend several games for them to choose. \n",
    "This can also assist company like \n",
    "The games in the recommender system will strictly based on the games offered on [Steam](https://store.steampowered.com/). Steam is a well-known gaming platform by Valve Corporation that contains a large game database and player base. \n"
   ]
  },
  {
   "cell_type": "markdown",
   "metadata": {},
   "source": [
    "### Table of Content:\n",
    "\n",
    "1. [Acquiring Entire App Library on Steam](#1.-Acquiring-Entire-App-Library-On-Steam)\n",
    "2. [Acquiring App Detail](#2.-Acquiring-App-Detail)\n",
    "3. [Filtering Apps that are Game](#3.-Filtering-categories%2C-genres-and-description-from-App-type-that-are-\"Games\")\n",
    "4. [Acquiring Game Reviews](#4.-Acquiring-Game-Reviews)\n",
    "---"
   ]
  },
  {
   "cell_type": "markdown",
   "metadata": {},
   "source": [
    "### Import Libraries"
   ]
  },
  {
   "cell_type": "code",
   "execution_count": 2,
   "metadata": {},
   "outputs": [],
   "source": [
    "import requests\n",
    "import json\n",
    "import pandas as pd\n",
    "import time\n",
    "import re"
   ]
  },
  {
   "cell_type": "markdown",
   "metadata": {},
   "source": [
    "# 1. Acquiring Entire App Library On Steam\n",
    "---"
   ]
  },
  {
   "cell_type": "markdown",
   "metadata": {},
   "source": [
    "I will be obtaining the entire apps from Steam library. This includes, games, soundtrack, DLCs, etc.. basically products that steam offers. "
   ]
  },
  {
   "cell_type": "code",
   "execution_count": null,
   "metadata": {},
   "outputs": [],
   "source": [
    "urls = 'https://api.steampowered.com/ISteamApps/GetAppList/v2/'\n",
    "ress = requests.get(urls)\n",
    "games = json.loads(ress.content)['applist']['apps']"
   ]
  },
  {
   "cell_type": "markdown",
   "metadata": {},
   "source": [
    "After acquiring the steam apps; I turn that into a dataframe with along with the unique game_id for each app, and the title of the app itself "
   ]
  },
  {
   "cell_type": "code",
   "execution_count": null,
   "metadata": {},
   "outputs": [],
   "source": [
    "top_df = pd.DataFrame(games)\n",
    "top_df.columns = ['game_id', 'title']"
   ]
  },
  {
   "cell_type": "markdown",
   "metadata": {},
   "source": [
    "Steam updates their library so often that I will never stop grabbing the apps. Therefore; after I acquire the Library once; I saved it to csv to prevent countless updating apps coming to my dataframe."
   ]
  },
  {
   "cell_type": "code",
   "execution_count": 4,
   "metadata": {},
   "outputs": [],
   "source": [
    "top_df.to_csv('./datas/top_df.csv')"
   ]
  },
  {
   "cell_type": "code",
   "execution_count": 3,
   "metadata": {},
   "outputs": [
    {
     "data": {
      "text/html": [
       "<div>\n",
       "<style scoped>\n",
       "    .dataframe tbody tr th:only-of-type {\n",
       "        vertical-align: middle;\n",
       "    }\n",
       "\n",
       "    .dataframe tbody tr th {\n",
       "        vertical-align: top;\n",
       "    }\n",
       "\n",
       "    .dataframe thead th {\n",
       "        text-align: right;\n",
       "    }\n",
       "</style>\n",
       "<table border=\"1\" class=\"dataframe\">\n",
       "  <thead>\n",
       "    <tr style=\"text-align: right;\">\n",
       "      <th></th>\n",
       "      <th>game_id</th>\n",
       "      <th>title</th>\n",
       "    </tr>\n",
       "  </thead>\n",
       "  <tbody>\n",
       "    <tr>\n",
       "      <th>0</th>\n",
       "      <td>216938</td>\n",
       "      <td>Pieterw test app76 ( 216938 )</td>\n",
       "    </tr>\n",
       "    <tr>\n",
       "      <th>1</th>\n",
       "      <td>660010</td>\n",
       "      <td>test2</td>\n",
       "    </tr>\n",
       "    <tr>\n",
       "      <th>2</th>\n",
       "      <td>660130</td>\n",
       "      <td>test3</td>\n",
       "    </tr>\n",
       "    <tr>\n",
       "      <th>3</th>\n",
       "      <td>939780</td>\n",
       "      <td>Cat Demon Island</td>\n",
       "    </tr>\n",
       "    <tr>\n",
       "      <th>4</th>\n",
       "      <td>939790</td>\n",
       "      <td>Royal Alchemist</td>\n",
       "    </tr>\n",
       "  </tbody>\n",
       "</table>\n",
       "</div>"
      ],
      "text/plain": [
       "   game_id                          title\n",
       "0   216938  Pieterw test app76 ( 216938 )\n",
       "1   660010                          test2\n",
       "2   660130                          test3\n",
       "3   939780               Cat Demon Island\n",
       "4   939790                Royal Alchemist"
      ]
     },
     "execution_count": 3,
     "metadata": {},
     "output_type": "execute_result"
    }
   ],
   "source": [
    "top_df = pd.read_csv('./datas/top_df.csv')\n",
    "top_df.drop('Unnamed: 0', axis=1, inplace=True)\n",
    "top_df.head()"
   ]
  },
  {
   "cell_type": "markdown",
   "metadata": {},
   "source": [
    "I have total of 74,060 apps; keep in mind that not all these apps are games. "
   ]
  },
  {
   "cell_type": "code",
   "execution_count": 5,
   "metadata": {},
   "outputs": [
    {
     "data": {
      "text/plain": [
       "74060"
      ]
     },
     "execution_count": 5,
     "metadata": {},
     "output_type": "execute_result"
    }
   ],
   "source": [
    "len(top_df)"
   ]
  },
  {
   "cell_type": "markdown",
   "metadata": {},
   "source": [
    "# 2. Acquiring App Detail\n",
    "--- "
   ]
  },
  {
   "cell_type": "markdown",
   "metadata": {},
   "source": [
    "I will perform a API scrapping from STEAM API that obtain the app detail for each app through the game_id I acquired from above API library. This will return to me the detail information of each app. From here we can determind if the app is categorize as \"game\" or not. I perform several AWS instances one performing this API scrapping process, for each 5,000 apps it took approxmatly 3 hours. I have 74,060 Apps meaning it took me around 44 hours to get all the app's detail."
   ]
  },
  {
   "cell_type": "code",
   "execution_count": 102,
   "metadata": {},
   "outputs": [
    {
     "name": "stdout",
     "output_type": "stream",
     "text": [
      "Time Spent: 3 Hours\n"
     ]
    }
   ],
   "source": [
    "top_game_details=[]\n",
    "start_time = time.time()\n",
    "for i in top_df['game_id']:\n",
    "    try:\n",
    "        game = {}\n",
    "        url = 'http://store.steampowered.com/api/appdetails?appids='+str(i)\n",
    "        res = requests.get(url)\n",
    "        game['data'] = json.loads(res.content)\n",
    "        top_game_details.append(game)\n",
    "        time.sleep(2)\n",
    "    except:\n",
    "        print(i)\n",
    "print(f'Time Spent: {round(((time.time()-start_time)/60)/60)} Hours')"
   ]
  },
  {
   "cell_type": "markdown",
   "metadata": {},
   "source": [
    "This is to show me what's missing/dropped during the API scrapping process. If a game_id shows up; then I will go back and manually input the game_id into the web API to see if it actually exist or I need to adjust the delay time. Because sometime acquiring API in a fast pace will either be blocked or not return any information. From the result we can clearly see that we have 0 missing. Which is a good sign."
   ]
  },
  {
   "cell_type": "code",
   "execution_count": 103,
   "metadata": {},
   "outputs": [],
   "source": [
    "missing = 0 \n",
    "curr = 1\n",
    "missing_list = []\n",
    "for game in top_game_details:\n",
    "    curr += 1\n",
    "    try:\n",
    "        appid = [*game['data'].keys()][0]\n",
    "    except:\n",
    "        missing += 1\n",
    "        missing_list.append(curr)"
   ]
  },
  {
   "cell_type": "code",
   "execution_count": 104,
   "metadata": {},
   "outputs": [
    {
     "data": {
      "text/plain": [
       "0"
      ]
     },
     "execution_count": 104,
     "metadata": {},
     "output_type": "execute_result"
    }
   ],
   "source": [
    "missing"
   ]
  },
  {
   "cell_type": "markdown",
   "metadata": {},
   "source": [
    "# 3. Filtering categories, genres and description from App type that are \"Games\"\n",
    "---"
   ]
  },
  {
   "cell_type": "markdown",
   "metadata": {},
   "source": [
    "After we acquired all the App details; we come to the filtering process that will filter the app that is game. If the app is a game; then it will acquire the name of the game along with the categories(features), genres(features), and detail description. Due to the low features varity, I will use the detail description as my features as well. Each game have their own unique description. "
   ]
  },
  {
   "cell_type": "code",
   "execution_count": 105,
   "metadata": {},
   "outputs": [],
   "source": [
    "game_keys = {}\n",
    "for game in top_game_details:\n",
    "    try:\n",
    "        appid = [*game['data'].keys()][0]\n",
    "        if game['data'][appid]['data']['type'] == 'game':\n",
    "            game_keys[appid] = {'name': game['data'][appid]['data']['name'], 'categories':[], 'genres':[], 'detailed_description': game['data'][appid]['data']['about_the_game']}\n",
    "            if 'genres' in game['data'][appid]['data'].keys():\n",
    "                game_keys[appid]['genres'].extend(x['description'] for x in game['data'][appid]['data']['genres'])\n",
    "            if 'categories' in game['data'][appid]['data'].keys():\n",
    "                game_keys[appid]['categories'].extend(x['description'] for x in game['data'][appid]['data']['categories'])\n",
    "    except:\n",
    "        pass"
   ]
  },
  {
   "cell_type": "markdown",
   "metadata": {},
   "source": [
    "I will seperate the game_features (categories and genres) and game descrption. Because I will perform different EDA and data cleaning process with this two dataframe. "
   ]
  },
  {
   "cell_type": "markdown",
   "metadata": {},
   "source": [
    "I created an empty dictionary that will combine my categories and genres and put them into a dataframe along with the unique game_id"
   ]
  },
  {
   "cell_type": "code",
   "execution_count": 106,
   "metadata": {},
   "outputs": [],
   "source": [
    "game_features = {}\n",
    "\n",
    "for game_id, game_dict in game_keys.items():\n",
    "    combined_list = game_dict['categories'] + game_dict['genres']\n",
    "    zipped_list = zip(combined_list, [1]*len(combined_list))\n",
    "    game_features[game_id] = dict(zipped_list)"
   ]
  },
  {
   "cell_type": "markdown",
   "metadata": {},
   "source": [
    "I created an empty dictionary that will combine my detailed description and put them into a dataframe along with the unique game_id "
   ]
  },
  {
   "cell_type": "code",
   "execution_count": 107,
   "metadata": {},
   "outputs": [],
   "source": [
    "game_context = {}\n",
    "\n",
    "for game_id, game_dict in game_keys.items():\n",
    "    \n",
    "    game_context[game_id] = game_dict['detailed_description'] "
   ]
  },
  {
   "cell_type": "markdown",
   "metadata": {},
   "source": [
    "I transform the game_features from dictionary to dataframe and Tranpose it so the unique game_id will be the index and the features will be the columns."
   ]
  },
  {
   "cell_type": "code",
   "execution_count": 108,
   "metadata": {},
   "outputs": [
    {
     "data": {
      "text/html": [
       "<div>\n",
       "<style scoped>\n",
       "    .dataframe tbody tr th:only-of-type {\n",
       "        vertical-align: middle;\n",
       "    }\n",
       "\n",
       "    .dataframe tbody tr th {\n",
       "        vertical-align: top;\n",
       "    }\n",
       "\n",
       "    .dataframe thead th {\n",
       "        text-align: right;\n",
       "    }\n",
       "</style>\n",
       "<table border=\"1\" class=\"dataframe\">\n",
       "  <thead>\n",
       "    <tr style=\"text-align: right;\">\n",
       "      <th></th>\n",
       "      <th>Action</th>\n",
       "      <th>Adventure</th>\n",
       "      <th>Animation &amp; Modeling</th>\n",
       "      <th>Audio Production</th>\n",
       "      <th>Captions available</th>\n",
       "      <th>Casual</th>\n",
       "      <th>Co-op</th>\n",
       "      <th>Commentary available</th>\n",
       "      <th>Cross-Platform Multiplayer</th>\n",
       "      <th>Design &amp; Illustration</th>\n",
       "      <th>...</th>\n",
       "      <th>Steam Turn Notifications</th>\n",
       "      <th>Steam Workshop</th>\n",
       "      <th>SteamVR Collectibles</th>\n",
       "      <th>Strategy</th>\n",
       "      <th>Utilities</th>\n",
       "      <th>VR Support</th>\n",
       "      <th>Valve Anti-Cheat enabled</th>\n",
       "      <th>Video Production</th>\n",
       "      <th>Violent</th>\n",
       "      <th>Web Publishing</th>\n",
       "    </tr>\n",
       "  </thead>\n",
       "  <tbody>\n",
       "    <tr>\n",
       "      <th>6910</th>\n",
       "      <td>1.0</td>\n",
       "      <td>NaN</td>\n",
       "      <td>NaN</td>\n",
       "      <td>NaN</td>\n",
       "      <td>NaN</td>\n",
       "      <td>NaN</td>\n",
       "      <td>NaN</td>\n",
       "      <td>NaN</td>\n",
       "      <td>NaN</td>\n",
       "      <td>NaN</td>\n",
       "      <td>...</td>\n",
       "      <td>NaN</td>\n",
       "      <td>NaN</td>\n",
       "      <td>NaN</td>\n",
       "      <td>NaN</td>\n",
       "      <td>NaN</td>\n",
       "      <td>NaN</td>\n",
       "      <td>NaN</td>\n",
       "      <td>NaN</td>\n",
       "      <td>NaN</td>\n",
       "      <td>NaN</td>\n",
       "    </tr>\n",
       "    <tr>\n",
       "      <th>6920</th>\n",
       "      <td>1.0</td>\n",
       "      <td>NaN</td>\n",
       "      <td>NaN</td>\n",
       "      <td>NaN</td>\n",
       "      <td>NaN</td>\n",
       "      <td>NaN</td>\n",
       "      <td>NaN</td>\n",
       "      <td>NaN</td>\n",
       "      <td>NaN</td>\n",
       "      <td>NaN</td>\n",
       "      <td>...</td>\n",
       "      <td>NaN</td>\n",
       "      <td>NaN</td>\n",
       "      <td>NaN</td>\n",
       "      <td>NaN</td>\n",
       "      <td>NaN</td>\n",
       "      <td>NaN</td>\n",
       "      <td>NaN</td>\n",
       "      <td>NaN</td>\n",
       "      <td>NaN</td>\n",
       "      <td>NaN</td>\n",
       "    </tr>\n",
       "    <tr>\n",
       "      <th>6980</th>\n",
       "      <td>1.0</td>\n",
       "      <td>NaN</td>\n",
       "      <td>NaN</td>\n",
       "      <td>NaN</td>\n",
       "      <td>NaN</td>\n",
       "      <td>NaN</td>\n",
       "      <td>NaN</td>\n",
       "      <td>NaN</td>\n",
       "      <td>NaN</td>\n",
       "      <td>NaN</td>\n",
       "      <td>...</td>\n",
       "      <td>NaN</td>\n",
       "      <td>NaN</td>\n",
       "      <td>NaN</td>\n",
       "      <td>NaN</td>\n",
       "      <td>NaN</td>\n",
       "      <td>NaN</td>\n",
       "      <td>NaN</td>\n",
       "      <td>NaN</td>\n",
       "      <td>NaN</td>\n",
       "      <td>NaN</td>\n",
       "    </tr>\n",
       "    <tr>\n",
       "      <th>7000</th>\n",
       "      <td>1.0</td>\n",
       "      <td>1.0</td>\n",
       "      <td>NaN</td>\n",
       "      <td>NaN</td>\n",
       "      <td>NaN</td>\n",
       "      <td>NaN</td>\n",
       "      <td>NaN</td>\n",
       "      <td>NaN</td>\n",
       "      <td>NaN</td>\n",
       "      <td>NaN</td>\n",
       "      <td>...</td>\n",
       "      <td>NaN</td>\n",
       "      <td>NaN</td>\n",
       "      <td>NaN</td>\n",
       "      <td>NaN</td>\n",
       "      <td>NaN</td>\n",
       "      <td>NaN</td>\n",
       "      <td>NaN</td>\n",
       "      <td>NaN</td>\n",
       "      <td>NaN</td>\n",
       "      <td>NaN</td>\n",
       "    </tr>\n",
       "    <tr>\n",
       "      <th>7010</th>\n",
       "      <td>1.0</td>\n",
       "      <td>NaN</td>\n",
       "      <td>NaN</td>\n",
       "      <td>NaN</td>\n",
       "      <td>NaN</td>\n",
       "      <td>NaN</td>\n",
       "      <td>NaN</td>\n",
       "      <td>NaN</td>\n",
       "      <td>NaN</td>\n",
       "      <td>NaN</td>\n",
       "      <td>...</td>\n",
       "      <td>NaN</td>\n",
       "      <td>NaN</td>\n",
       "      <td>NaN</td>\n",
       "      <td>NaN</td>\n",
       "      <td>NaN</td>\n",
       "      <td>NaN</td>\n",
       "      <td>NaN</td>\n",
       "      <td>NaN</td>\n",
       "      <td>NaN</td>\n",
       "      <td>NaN</td>\n",
       "    </tr>\n",
       "  </tbody>\n",
       "</table>\n",
       "<p>5 rows × 53 columns</p>\n",
       "</div>"
      ],
      "text/plain": [
       "      Action  Adventure  Animation & Modeling  Audio Production  \\\n",
       "6910     1.0        NaN                   NaN               NaN   \n",
       "6920     1.0        NaN                   NaN               NaN   \n",
       "6980     1.0        NaN                   NaN               NaN   \n",
       "7000     1.0        1.0                   NaN               NaN   \n",
       "7010     1.0        NaN                   NaN               NaN   \n",
       "\n",
       "      Captions available  Casual  Co-op  Commentary available  \\\n",
       "6910                 NaN     NaN    NaN                   NaN   \n",
       "6920                 NaN     NaN    NaN                   NaN   \n",
       "6980                 NaN     NaN    NaN                   NaN   \n",
       "7000                 NaN     NaN    NaN                   NaN   \n",
       "7010                 NaN     NaN    NaN                   NaN   \n",
       "\n",
       "      Cross-Platform Multiplayer  Design & Illustration       ...        \\\n",
       "6910                         NaN                    NaN       ...         \n",
       "6920                         NaN                    NaN       ...         \n",
       "6980                         NaN                    NaN       ...         \n",
       "7000                         NaN                    NaN       ...         \n",
       "7010                         NaN                    NaN       ...         \n",
       "\n",
       "      Steam Turn Notifications  Steam Workshop  SteamVR Collectibles  \\\n",
       "6910                       NaN             NaN                   NaN   \n",
       "6920                       NaN             NaN                   NaN   \n",
       "6980                       NaN             NaN                   NaN   \n",
       "7000                       NaN             NaN                   NaN   \n",
       "7010                       NaN             NaN                   NaN   \n",
       "\n",
       "      Strategy  Utilities  VR Support  Valve Anti-Cheat enabled  \\\n",
       "6910       NaN        NaN         NaN                       NaN   \n",
       "6920       NaN        NaN         NaN                       NaN   \n",
       "6980       NaN        NaN         NaN                       NaN   \n",
       "7000       NaN        NaN         NaN                       NaN   \n",
       "7010       NaN        NaN         NaN                       NaN   \n",
       "\n",
       "      Video Production  Violent  Web Publishing  \n",
       "6910               NaN      NaN             NaN  \n",
       "6920               NaN      NaN             NaN  \n",
       "6980               NaN      NaN             NaN  \n",
       "7000               NaN      NaN             NaN  \n",
       "7010               NaN      NaN             NaN  \n",
       "\n",
       "[5 rows x 53 columns]"
      ]
     },
     "execution_count": 108,
     "metadata": {},
     "output_type": "execute_result"
    }
   ],
   "source": [
    "game_features = pd.DataFrame(game_features).T\n",
    "game_features.head()"
   ]
  },
  {
   "cell_type": "markdown",
   "metadata": {},
   "source": [
    "As I mentioned above; I obtained all the games and API from several different AWS instances to increase productiviy; so I will import all the games that I obtained and merge them together."
   ]
  },
  {
   "cell_type": "code",
   "execution_count": 109,
   "metadata": {},
   "outputs": [],
   "source": [
    "game_feat = pd.read_csv('./datas/game_features_1.csv', index_col='Unnamed: 0')"
   ]
  },
  {
   "cell_type": "code",
   "execution_count": 111,
   "metadata": {},
   "outputs": [
    {
     "data": {
      "text/html": [
       "<div>\n",
       "<style scoped>\n",
       "    .dataframe tbody tr th:only-of-type {\n",
       "        vertical-align: middle;\n",
       "    }\n",
       "\n",
       "    .dataframe tbody tr th {\n",
       "        vertical-align: top;\n",
       "    }\n",
       "\n",
       "    .dataframe thead th {\n",
       "        text-align: right;\n",
       "    }\n",
       "</style>\n",
       "<table border=\"1\" class=\"dataframe\">\n",
       "  <thead>\n",
       "    <tr style=\"text-align: right;\">\n",
       "      <th></th>\n",
       "      <th>Accounting</th>\n",
       "      <th>Action</th>\n",
       "      <th>Adventure</th>\n",
       "      <th>Animation &amp; Modeling</th>\n",
       "      <th>Audio Production</th>\n",
       "      <th>Captions available</th>\n",
       "      <th>Casual</th>\n",
       "      <th>Co-op</th>\n",
       "      <th>Commentary available</th>\n",
       "      <th>Cross-Platform Multiplayer</th>\n",
       "      <th>...</th>\n",
       "      <th>Экшены</th>\n",
       "      <th>Включает редактор уровней</th>\n",
       "      <th>Имеется античит Valve</th>\n",
       "      <th>Контроллер (полностью)</th>\n",
       "      <th>Мастерская Steam</th>\n",
       "      <th>Покупки внутри приложения</th>\n",
       "      <th>Mods</th>\n",
       "      <th>Mods (require HL2)</th>\n",
       "      <th>Контроллер (частично)</th>\n",
       "      <th>Приключенческие игры</th>\n",
       "    </tr>\n",
       "  </thead>\n",
       "  <tbody>\n",
       "    <tr>\n",
       "      <th>939780</th>\n",
       "      <td>NaN</td>\n",
       "      <td>1.0</td>\n",
       "      <td>1.0</td>\n",
       "      <td>NaN</td>\n",
       "      <td>NaN</td>\n",
       "      <td>NaN</td>\n",
       "      <td>NaN</td>\n",
       "      <td>NaN</td>\n",
       "      <td>NaN</td>\n",
       "      <td>NaN</td>\n",
       "      <td>...</td>\n",
       "      <td>NaN</td>\n",
       "      <td>NaN</td>\n",
       "      <td>NaN</td>\n",
       "      <td>NaN</td>\n",
       "      <td>NaN</td>\n",
       "      <td>NaN</td>\n",
       "      <td>NaN</td>\n",
       "      <td>NaN</td>\n",
       "      <td>NaN</td>\n",
       "      <td>NaN</td>\n",
       "    </tr>\n",
       "    <tr>\n",
       "      <th>939790</th>\n",
       "      <td>NaN</td>\n",
       "      <td>NaN</td>\n",
       "      <td>NaN</td>\n",
       "      <td>NaN</td>\n",
       "      <td>NaN</td>\n",
       "      <td>NaN</td>\n",
       "      <td>NaN</td>\n",
       "      <td>NaN</td>\n",
       "      <td>NaN</td>\n",
       "      <td>NaN</td>\n",
       "      <td>...</td>\n",
       "      <td>NaN</td>\n",
       "      <td>NaN</td>\n",
       "      <td>NaN</td>\n",
       "      <td>NaN</td>\n",
       "      <td>NaN</td>\n",
       "      <td>NaN</td>\n",
       "      <td>NaN</td>\n",
       "      <td>NaN</td>\n",
       "      <td>NaN</td>\n",
       "      <td>NaN</td>\n",
       "    </tr>\n",
       "    <tr>\n",
       "      <th>939920</th>\n",
       "      <td>NaN</td>\n",
       "      <td>NaN</td>\n",
       "      <td>NaN</td>\n",
       "      <td>1.0</td>\n",
       "      <td>NaN</td>\n",
       "      <td>NaN</td>\n",
       "      <td>NaN</td>\n",
       "      <td>NaN</td>\n",
       "      <td>NaN</td>\n",
       "      <td>NaN</td>\n",
       "      <td>...</td>\n",
       "      <td>NaN</td>\n",
       "      <td>NaN</td>\n",
       "      <td>NaN</td>\n",
       "      <td>NaN</td>\n",
       "      <td>NaN</td>\n",
       "      <td>NaN</td>\n",
       "      <td>NaN</td>\n",
       "      <td>NaN</td>\n",
       "      <td>NaN</td>\n",
       "      <td>NaN</td>\n",
       "    </tr>\n",
       "    <tr>\n",
       "      <th>939930</th>\n",
       "      <td>NaN</td>\n",
       "      <td>NaN</td>\n",
       "      <td>NaN</td>\n",
       "      <td>NaN</td>\n",
       "      <td>NaN</td>\n",
       "      <td>NaN</td>\n",
       "      <td>NaN</td>\n",
       "      <td>NaN</td>\n",
       "      <td>NaN</td>\n",
       "      <td>NaN</td>\n",
       "      <td>...</td>\n",
       "      <td>NaN</td>\n",
       "      <td>NaN</td>\n",
       "      <td>NaN</td>\n",
       "      <td>NaN</td>\n",
       "      <td>NaN</td>\n",
       "      <td>NaN</td>\n",
       "      <td>NaN</td>\n",
       "      <td>NaN</td>\n",
       "      <td>NaN</td>\n",
       "      <td>NaN</td>\n",
       "    </tr>\n",
       "    <tr>\n",
       "      <th>940130</th>\n",
       "      <td>NaN</td>\n",
       "      <td>NaN</td>\n",
       "      <td>NaN</td>\n",
       "      <td>NaN</td>\n",
       "      <td>NaN</td>\n",
       "      <td>NaN</td>\n",
       "      <td>NaN</td>\n",
       "      <td>NaN</td>\n",
       "      <td>NaN</td>\n",
       "      <td>NaN</td>\n",
       "      <td>...</td>\n",
       "      <td>NaN</td>\n",
       "      <td>NaN</td>\n",
       "      <td>NaN</td>\n",
       "      <td>NaN</td>\n",
       "      <td>NaN</td>\n",
       "      <td>NaN</td>\n",
       "      <td>NaN</td>\n",
       "      <td>NaN</td>\n",
       "      <td>NaN</td>\n",
       "      <td>NaN</td>\n",
       "    </tr>\n",
       "  </tbody>\n",
       "</table>\n",
       "<p>5 rows × 86 columns</p>\n",
       "</div>"
      ],
      "text/plain": [
       "        Accounting  Action  Adventure  Animation & Modeling  Audio Production  \\\n",
       "939780         NaN     1.0        1.0                   NaN               NaN   \n",
       "939790         NaN     NaN        NaN                   NaN               NaN   \n",
       "939920         NaN     NaN        NaN                   1.0               NaN   \n",
       "939930         NaN     NaN        NaN                   NaN               NaN   \n",
       "940130         NaN     NaN        NaN                   NaN               NaN   \n",
       "\n",
       "        Captions available  Casual  Co-op  Commentary available  \\\n",
       "939780                 NaN     NaN    NaN                   NaN   \n",
       "939790                 NaN     NaN    NaN                   NaN   \n",
       "939920                 NaN     NaN    NaN                   NaN   \n",
       "939930                 NaN     NaN    NaN                   NaN   \n",
       "940130                 NaN     NaN    NaN                   NaN   \n",
       "\n",
       "        Cross-Platform Multiplayer          ...           Экшены  \\\n",
       "939780                         NaN          ...              NaN   \n",
       "939790                         NaN          ...              NaN   \n",
       "939920                         NaN          ...              NaN   \n",
       "939930                         NaN          ...              NaN   \n",
       "940130                         NaN          ...              NaN   \n",
       "\n",
       "        Включает редактор уровней  Имеется античит Valve  \\\n",
       "939780                        NaN                    NaN   \n",
       "939790                        NaN                    NaN   \n",
       "939920                        NaN                    NaN   \n",
       "939930                        NaN                    NaN   \n",
       "940130                        NaN                    NaN   \n",
       "\n",
       "        Контроллер (полностью)  Мастерская Steam  Покупки внутри приложения  \\\n",
       "939780                     NaN               NaN                        NaN   \n",
       "939790                     NaN               NaN                        NaN   \n",
       "939920                     NaN               NaN                        NaN   \n",
       "939930                     NaN               NaN                        NaN   \n",
       "940130                     NaN               NaN                        NaN   \n",
       "\n",
       "        Mods  Mods (require HL2)  Контроллер (частично)  Приключенческие игры  \n",
       "939780   NaN                 NaN                    NaN                   NaN  \n",
       "939790   NaN                 NaN                    NaN                   NaN  \n",
       "939920   NaN                 NaN                    NaN                   NaN  \n",
       "939930   NaN                 NaN                    NaN                   NaN  \n",
       "940130   NaN                 NaN                    NaN                   NaN  \n",
       "\n",
       "[5 rows x 86 columns]"
      ]
     },
     "execution_count": 111,
     "metadata": {},
     "output_type": "execute_result"
    }
   ],
   "source": [
    "game_feat.head()"
   ]
  },
  {
   "cell_type": "markdown",
   "metadata": {},
   "source": [
    "I will concateate the entired games from other AWS instances together. I will concat on their unique game_id as index."
   ]
  },
  {
   "cell_type": "code",
   "execution_count": 112,
   "metadata": {},
   "outputs": [],
   "source": [
    "game_feature = pd.concat([game_feat,game_features], sort=False)\n"
   ]
  },
  {
   "cell_type": "markdown",
   "metadata": {},
   "source": [
    "So after the API scrapping on entired 74,060 app library; I end up with 31,578 of them are games. Along with 86 different unique features that mentioned in each game."
   ]
  },
  {
   "cell_type": "code",
   "execution_count": 113,
   "metadata": {},
   "outputs": [
    {
     "data": {
      "text/plain": [
       "(31578, 86)"
      ]
     },
     "execution_count": 113,
     "metadata": {},
     "output_type": "execute_result"
    }
   ],
   "source": [
    "game_feature.shape"
   ]
  },
  {
   "cell_type": "markdown",
   "metadata": {},
   "source": [
    "Saving my final game_features dataframe to csv to move to the next procedure."
   ]
  },
  {
   "cell_type": "code",
   "execution_count": 114,
   "metadata": {},
   "outputs": [],
   "source": [
    "game_feature.to_csv('./datas/game_features_1.csv')"
   ]
  },
  {
   "cell_type": "markdown",
   "metadata": {},
   "source": [
    "Similary to the game_features; I will transform the descirption for each game to dataframe."
   ]
  },
  {
   "cell_type": "code",
   "execution_count": 115,
   "metadata": {},
   "outputs": [
    {
     "data": {
      "text/html": [
       "<div>\n",
       "<style scoped>\n",
       "    .dataframe tbody tr th:only-of-type {\n",
       "        vertical-align: middle;\n",
       "    }\n",
       "\n",
       "    .dataframe tbody tr th {\n",
       "        vertical-align: top;\n",
       "    }\n",
       "\n",
       "    .dataframe thead th {\n",
       "        text-align: right;\n",
       "    }\n",
       "</style>\n",
       "<table border=\"1\" class=\"dataframe\">\n",
       "  <thead>\n",
       "    <tr style=\"text-align: right;\">\n",
       "      <th></th>\n",
       "      <th>game_description</th>\n",
       "    </tr>\n",
       "  </thead>\n",
       "  <tbody>\n",
       "    <tr>\n",
       "      <th>6910</th>\n",
       "      <td>The year is 2052 and the world is a dangerous ...</td>\n",
       "    </tr>\n",
       "    <tr>\n",
       "      <th>6920</th>\n",
       "      <td>Approximately 20 years after the events depict...</td>\n",
       "    </tr>\n",
       "    <tr>\n",
       "      <th>6980</th>\n",
       "      <td>You are Garrett, the master thief. Rarely seen...</td>\n",
       "    </tr>\n",
       "    <tr>\n",
       "      <th>7000</th>\n",
       "      <td>Follow Lara Croft down a path of discovery as ...</td>\n",
       "    </tr>\n",
       "    <tr>\n",
       "      <th>7010</th>\n",
       "      <td>&lt;p&gt;Experience the dramatic intensity of the fr...</td>\n",
       "    </tr>\n",
       "  </tbody>\n",
       "</table>\n",
       "</div>"
      ],
      "text/plain": [
       "                                       game_description\n",
       "6910  The year is 2052 and the world is a dangerous ...\n",
       "6920  Approximately 20 years after the events depict...\n",
       "6980  You are Garrett, the master thief. Rarely seen...\n",
       "7000  Follow Lara Croft down a path of discovery as ...\n",
       "7010  <p>Experience the dramatic intensity of the fr..."
      ]
     },
     "execution_count": 115,
     "metadata": {},
     "output_type": "execute_result"
    }
   ],
   "source": [
    "game_description = pd.DataFrame(game_context, index=['game_description']).T\n",
    "game_description.head()\n"
   ]
  },
  {
   "cell_type": "markdown",
   "metadata": {},
   "source": [
    "Acquired all the data from different instances; I will load them and concated the game_description along with the unique game_id of each game."
   ]
  },
  {
   "cell_type": "code",
   "execution_count": 116,
   "metadata": {},
   "outputs": [],
   "source": [
    "game_des = pd.read_csv('./datas/game_description_1.csv', index_col='Unnamed: 0')\n",
    "game_descriptions = pd.concat([game_des,game_description], sort=False)"
   ]
  },
  {
   "cell_type": "markdown",
   "metadata": {},
   "source": [
    "My game_features and game_description should have the same index length. Meaning they should have the same number of games. In this case; it's correct. I got both 31,578 games on game_features and game_descriptions."
   ]
  },
  {
   "cell_type": "code",
   "execution_count": 122,
   "metadata": {},
   "outputs": [
    {
     "data": {
      "text/plain": [
       "(31578, 1)"
      ]
     },
     "execution_count": 122,
     "metadata": {},
     "output_type": "execute_result"
    }
   ],
   "source": [
    "game_descriptions.shape"
   ]
  },
  {
   "cell_type": "code",
   "execution_count": 118,
   "metadata": {},
   "outputs": [],
   "source": [
    "game_descriptions.to_csv('./datas/game_description_1.csv')"
   ]
  },
  {
   "cell_type": "markdown",
   "metadata": {},
   "source": [
    "# 4. Acquiring Game Reviews\n",
    "---"
   ]
  },
  {
   "cell_type": "markdown",
   "metadata": {},
   "source": [
    "I want my recommender to perform better; not only the game features will be included. I will also obtain the reviews counts from each game. If some game does not have reviews I will drop that from the game_features and game_description data. \n",
    "This will take approxmatly around 12 hours of time to scrape all the game reviews."
   ]
  },
  {
   "cell_type": "code",
   "execution_count": 125,
   "metadata": {},
   "outputs": [
    {
     "name": "stdout",
     "output_type": "stream",
     "text": [
      "906900\n",
      "997050\n",
      "961440\n",
      "35450\n",
      "1006940\n",
      "Time Spent: 12 hours\n"
     ]
    }
   ],
   "source": [
    "game_reviews = {}\n",
    "start_time = time.time()\n",
    "for i in game_descriptions.index:\n",
    "    try:\n",
    "        game = {}\n",
    "        url_reviews = 'http://store.steampowered.com/appreviews/'+str(i)+'?json=1'\n",
    "        res_reviews = requests.get(url_reviews)\n",
    "        game = json.loads(res_reviews.content)['query_summary']\n",
    "        game_reviews[i] = {'total_reviews': game['total_reviews'], 'positive_reviews': game['total_positive']}\n",
    "        time.sleep(1)\n",
    "    except:\n",
    "        print(i)\n",
    "print(f'Time Spent: {round(((time.time()-start_time)/60)/60)} hours')"
   ]
  },
  {
   "cell_type": "markdown",
   "metadata": {},
   "source": [
    "After acquiring all the reviews from the games I got from API scrapping. There are some of the game that doesn't have any reviews. Games that did not came back with a result from review API scrapping are:\n",
    "\n",
    "- 906900\n",
    "- 997050\n",
    "- 961440\n",
    "- 35450\n",
    "- 1006940\n",
    "\n",
    "I went forward and checked each of the specific game_id. It's either the game is not popular that no one writes a review about; or Steam didn't have the review system up for that game yet. Since I only lose 5 games; in this case I will match the result from game_reviews to my features and description csv. "
   ]
  },
  {
   "cell_type": "code",
   "execution_count": 126,
   "metadata": {},
   "outputs": [
    {
     "data": {
      "text/plain": [
       "31573"
      ]
     },
     "execution_count": 126,
     "metadata": {},
     "output_type": "execute_result"
    }
   ],
   "source": [
    "len(game_reviews)"
   ]
  },
  {
   "cell_type": "code",
   "execution_count": 127,
   "metadata": {},
   "outputs": [],
   "source": [
    "game_review = pd.DataFrame(game_reviews).T"
   ]
  },
  {
   "cell_type": "markdown",
   "metadata": {},
   "source": [
    "I set the index name to the unique game_id each game have and moving to the next step of EDA."
   ]
  },
  {
   "cell_type": "code",
   "execution_count": 128,
   "metadata": {},
   "outputs": [],
   "source": [
    "game_review.index.name = 'game_id'"
   ]
  },
  {
   "cell_type": "code",
   "execution_count": 129,
   "metadata": {},
   "outputs": [
    {
     "data": {
      "text/html": [
       "<div>\n",
       "<style scoped>\n",
       "    .dataframe tbody tr th:only-of-type {\n",
       "        vertical-align: middle;\n",
       "    }\n",
       "\n",
       "    .dataframe tbody tr th {\n",
       "        vertical-align: top;\n",
       "    }\n",
       "\n",
       "    .dataframe thead th {\n",
       "        text-align: right;\n",
       "    }\n",
       "</style>\n",
       "<table border=\"1\" class=\"dataframe\">\n",
       "  <thead>\n",
       "    <tr style=\"text-align: right;\">\n",
       "      <th></th>\n",
       "      <th>positive_reviews</th>\n",
       "      <th>total_reviews</th>\n",
       "    </tr>\n",
       "    <tr>\n",
       "      <th>game_id</th>\n",
       "      <th></th>\n",
       "      <th></th>\n",
       "    </tr>\n",
       "  </thead>\n",
       "  <tbody>\n",
       "    <tr>\n",
       "      <th>939780</th>\n",
       "      <td>0</td>\n",
       "      <td>0</td>\n",
       "    </tr>\n",
       "    <tr>\n",
       "      <th>939790</th>\n",
       "      <td>0</td>\n",
       "      <td>0</td>\n",
       "    </tr>\n",
       "    <tr>\n",
       "      <th>939920</th>\n",
       "      <td>1</td>\n",
       "      <td>2</td>\n",
       "    </tr>\n",
       "    <tr>\n",
       "      <th>939930</th>\n",
       "      <td>0</td>\n",
       "      <td>3</td>\n",
       "    </tr>\n",
       "    <tr>\n",
       "      <th>940130</th>\n",
       "      <td>1</td>\n",
       "      <td>1</td>\n",
       "    </tr>\n",
       "  </tbody>\n",
       "</table>\n",
       "</div>"
      ],
      "text/plain": [
       "         positive_reviews  total_reviews\n",
       "game_id                                 \n",
       "939780                  0              0\n",
       "939790                  0              0\n",
       "939920                  1              2\n",
       "939930                  0              3\n",
       "940130                  1              1"
      ]
     },
     "execution_count": 129,
     "metadata": {},
     "output_type": "execute_result"
    }
   ],
   "source": [
    "game_review.head()"
   ]
  },
  {
   "cell_type": "code",
   "execution_count": 130,
   "metadata": {},
   "outputs": [],
   "source": [
    "game_review.to_csv('./datas/game_review_1.csv')"
   ]
  }
 ],
 "metadata": {
  "kernelspec": {
   "display_name": "Python 3",
   "language": "python",
   "name": "python3"
  },
  "language_info": {
   "codemirror_mode": {
    "name": "ipython",
    "version": 3
   },
   "file_extension": ".py",
   "mimetype": "text/x-python",
   "name": "python",
   "nbconvert_exporter": "python",
   "pygments_lexer": "ipython3",
   "version": "3.6.6"
  }
 },
 "nbformat": 4,
 "nbformat_minor": 2
}
