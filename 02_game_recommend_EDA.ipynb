{
 "cells": [
  {
   "cell_type": "markdown",
   "metadata": {},
   "source": [
    "# Exploratory Data Analysis\n",
    "---\n",
    "\n",
    "In this notebook I will perform a exploratory data analysis on the API data I just acquired from previous notebook. This will include setting the threshold to filter out the unwanted games by looking at the distribution of my review data.\n",
    "\n",
    "Then I will clean out any game name, context, and features that consist language other than English. Followed by performing exploring variance of the features and interpret the features each by each.\n",
    "\n",
    "Lastly, cleaning out the game descriptions that has html and CSS format, then perform tfidf and explore the word count weights in the game description. Combine all data that performed EDA on and move to the next step. \n",
    "\n"
   ]
  },
  {
   "cell_type": "markdown",
   "metadata": {},
   "source": [
    "### Table of Contents:\n",
    "\n",
    "1. [EDA: Data Cleaning (game_reviews)](#EDA:-Data-Cleaning-(game_reviews))\n",
    "    1. [Review Counts Filtering](#Review-Counts-Filtering)\n",
    "    2. [Positive Review Rates Filtering](#Positive-Review-Rates-Filtering)\n",
    "2. [EDA: Data Cleaning (game_lookup)](#EDA:-Data-Cleaning-(game_lookup))\n",
    "3. [EDA: Data Cleaning (game_features)](#EDA:-Data-Cleaning-(game_features))\n",
    "    1. [Filter by variance](#Filter-by-Variance)\n",
    "    2. [Manual Interpretation](#Manual-Interpretation-on-Features)\n",
    "4. [EDA: Data Cleaning (game_description)](#EDA:-Data-Cleaning-(game_description))\n",
    "--- "
   ]
  },
  {
   "cell_type": "markdown",
   "metadata": {},
   "source": [
    "### Import Libraries\n"
   ]
  },
  {
   "cell_type": "code",
   "execution_count": 1,
   "metadata": {},
   "outputs": [],
   "source": [
    "import pandas as pd\n",
    "import numpy as np\n",
    "import time\n",
    "import nltk\n",
    "from nltk.stem import WordNetLemmatizer\n",
    "from nltk.tokenize import RegexpTokenizer\n",
    "from nltk.corpus import stopwords\n",
    "from sklearn.feature_extraction.text import TfidfVectorizer\n",
    "import scipy.sparse\n",
    "import scipy.stats as stats\n",
    "import pylab as pl\n",
    "import re\n",
    "\n",
    "import matplotlib.pyplot as plt\n",
    "import seaborn as sns\n",
    "\n",
    "sns.set_style('darkgrid')\n",
    "sns.set_palette(palette='colorblind')\n",
    "%matplotlib inline"
   ]
  },
  {
   "cell_type": "markdown",
   "metadata": {},
   "source": [
    "## Import DataFrame "
   ]
  },
  {
   "cell_type": "code",
   "execution_count": 5,
   "metadata": {},
   "outputs": [],
   "source": [
    "game_features = pd.read_csv('./datas/game_features_1.csv', index_col=[0])\n",
    "game_features.rename_axis(['game_id'], inplace=True)"
   ]
  },
  {
   "cell_type": "code",
   "execution_count": 8,
   "metadata": {},
   "outputs": [],
   "source": [
    "game_description = pd.read_csv('./datas/game_description_1.csv', index_col=[0])\n",
    "game_description.rename_axis(['game_id'], inplace=True)"
   ]
  },
  {
   "cell_type": "code",
   "execution_count": 9,
   "metadata": {},
   "outputs": [],
   "source": [
    "game_lookup = pd.read_csv('./datas/top_df.csv', index_col='game_id')"
   ]
  },
  {
   "cell_type": "code",
   "execution_count": 10,
   "metadata": {},
   "outputs": [],
   "source": [
    "game_reviews = pd.read_csv('./datas/game_review_1.csv', index_col='game_id')"
   ]
  },
  {
   "cell_type": "markdown",
   "metadata": {},
   "source": [
    "# EDA: Data Cleaning (game_reviews)\n",
    "---"
   ]
  },
  {
   "cell_type": "markdown",
   "metadata": {},
   "source": [
    "I will drop duplicate index. This might occur from API scrapping and merging. Therefore, this is to prevent any duplicate data."
   ]
  },
  {
   "cell_type": "code",
   "execution_count": 12,
   "metadata": {},
   "outputs": [],
   "source": [
    "game_reviews = game_reviews[~game_reviews.index.duplicated(keep=False)]"
   ]
  },
  {
   "cell_type": "code",
   "execution_count": 13,
   "metadata": {},
   "outputs": [
    {
     "data": {
      "text/plain": [
       "(30631, 2)"
      ]
     },
     "execution_count": 13,
     "metadata": {},
     "output_type": "execute_result"
    }
   ],
   "source": [
    "game_reviews.shape"
   ]
  },
  {
   "cell_type": "markdown",
   "metadata": {},
   "source": [
    "I will create a new columns that calculate the positive review rate of that specific game. This will be used to create a threshold to filter some of the unwanted games in my library."
   ]
  },
  {
   "cell_type": "code",
   "execution_count": 14,
   "metadata": {},
   "outputs": [],
   "source": [
    "game_reviews['positive_rate'] = game_reviews['positive_reviews'] / game_reviews['total_reviews']"
   ]
  },
  {
   "cell_type": "markdown",
   "metadata": {},
   "source": [
    "## Review Counts Filtering"
   ]
  },
  {
   "cell_type": "markdown",
   "metadata": {},
   "source": [
    "As the graph shown below, this demonstrate that we have a outlier that has review count of almost 700,000. Alot of the review counts are falling between 0 to 100,000. I will temperay remove this and draw an distribution graph to set a threshold of how many reviews are considered a good amout in my data set."
   ]
  },
  {
   "cell_type": "markdown",
   "metadata": {},
   "source": [
    "I will create a boolean that filters out any reviews from 1 to 10; the reason why I do this is because based on the graph below around 2,250 games falls within 0 to 1 reviews. "
   ]
  },
  {
   "cell_type": "code",
   "execution_count": 15,
   "metadata": {},
   "outputs": [
    {
     "name": "stdout",
     "output_type": "stream",
     "text": [
      "Game reviews within 1 to 10 covers around 35.14% of my dataset.\n"
     ]
    }
   ],
   "source": [
    "game_test = game_reviews['total_reviews'][(game_reviews['total_reviews'] <= 10) & (game_reviews['total_reviews'] >= 1)]\n",
    "print(f'Game reviews within 1 to 10 covers around '+str(round(len(game_test) / len(game_reviews['total_reviews']) * 100,2))+'% of my dataset.')"
   ]
  },
  {
   "cell_type": "code",
   "execution_count": 16,
   "metadata": {},
   "outputs": [
    {
     "data": {
      "image/png": "[encoded data removed]",
      "text/plain": [
       "<Figure size 720x720 with 1 Axes>"
      ]
     },
     "metadata": {
      "needs_background": "light"
     },
     "output_type": "display_data"
    }
   ],
   "source": [
    "plt.figure(figsize=(10,10))\n",
    "plt.hist(game_test, bins=10)\n",
    "plt.yticks(fontsize=10)\n",
    "plt.xticks(fontsize=10)\n",
    "plt.ylabel(f'Number of Games', fontsize=20)\n",
    "plt.xlabel(f'Number of Reviews', fontsize=20)\n",
    "plt.title(f'Total Reviews', fontsize=30)\n",
    "plt.tight_layout();"
   ]
  },
  {
   "cell_type": "markdown",
   "metadata": {},
   "source": [
    "Based on the graph above; I will eliminate the game that has review counts lower than 10. This will eliminate around 35.14% of games. Because not every user will write reviews on the game they purchased. So the count will be lower than the actual game purchased. Unfortunately it is impossible to acquire the game purchased count from Steam API. "
   ]
  },
  {
   "cell_type": "code",
   "execution_count": 17,
   "metadata": {},
   "outputs": [],
   "source": [
    "review_under10 = game_reviews.index[game_reviews['total_reviews'] < 10]"
   ]
  },
  {
   "cell_type": "code",
   "execution_count": 18,
   "metadata": {},
   "outputs": [],
   "source": [
    "game_reviews.drop(review_under10, axis=0, inplace=True)"
   ]
  },
  {
   "cell_type": "code",
   "execution_count": 19,
   "metadata": {},
   "outputs": [
    {
     "data": {
      "text/plain": [
       "(13272, 3)"
      ]
     },
     "execution_count": 19,
     "metadata": {},
     "output_type": "execute_result"
    }
   ],
   "source": [
    "game_reviews.shape"
   ]
  },
  {
   "cell_type": "markdown",
   "metadata": {},
   "source": [
    "## Positive Review Rates Filtering"
   ]
  },
  {
   "cell_type": "markdown",
   "metadata": {},
   "source": [
    "After the review filtering; I have total of 13,272 games in my game library that has more than 10 reviews. Then we will move into the next filtering process. Filter by the positive review rates. "
   ]
  },
  {
   "cell_type": "code",
   "execution_count": 20,
   "metadata": {},
   "outputs": [
    {
     "data": {
      "image/png": "[encoded data removed]",
      "text/plain": [
       "<Figure size 720x720 with 1 Axes>"
      ]
     },
     "metadata": {
      "needs_background": "light"
     },
     "output_type": "display_data"
    }
   ],
   "source": [
    "plt.figure(figsize=(10,10))\n",
    "plt.boxplot(game_reviews['positive_rate'])\n",
    "plt.yticks(fontsize=10)\n",
    "plt.xlabel(f'Games', fontsize=20)\n",
    "plt.ylabel(f'Positive Review Rates', fontsize=20)\n",
    "plt.xticks(fontsize=10)\n",
    "plt.title(f'Review Rates Distribution', fontsize=30)\n",
    "plt.tight_layout();"
   ]
  },
  {
   "cell_type": "markdown",
   "metadata": {},
   "source": [
    "According to the box-plot above, we can noticed that our mean review rates are around 0.8. This is good, this means that most of our game has good positive review; meaning it's a good game that I want to recommend to users. There are several games that has rates of lower than 0.2 and beyond. 0.5 looks like a rates that can remove the games that are lack for positive review."
   ]
  },
  {
   "cell_type": "markdown",
   "metadata": {},
   "source": [
    "I will eliminate games that has review rates of 0.5 and lower. This will remove additional 1,715 games from the review counts filter process. "
   ]
  },
  {
   "cell_type": "code",
   "execution_count": 21,
   "metadata": {},
   "outputs": [
    {
     "data": {
      "text/plain": [
       "1715"
      ]
     },
     "execution_count": 21,
     "metadata": {},
     "output_type": "execute_result"
    }
   ],
   "source": [
    "low_rate = game_reviews.index[game_reviews['positive_rate'] < 0.5]\n",
    "len(low_rate)"
   ]
  },
  {
   "cell_type": "code",
   "execution_count": 22,
   "metadata": {},
   "outputs": [],
   "source": [
    "game_reviews.drop(low_rate, axis=0, inplace=True)"
   ]
  },
  {
   "cell_type": "markdown",
   "metadata": {},
   "source": [
    "After performing the EDA on game reviews, we started with 30,631 games to 11,557 games. These are the games that has good review counts and high positive review rates. "
   ]
  },
  {
   "cell_type": "code",
   "execution_count": 23,
   "metadata": {},
   "outputs": [
    {
     "data": {
      "text/html": [
       "<div>\n",
       "<style scoped>\n",
       "    .dataframe tbody tr th:only-of-type {\n",
       "        vertical-align: middle;\n",
       "    }\n",
       "\n",
       "    .dataframe tbody tr th {\n",
       "        vertical-align: top;\n",
       "    }\n",
       "\n",
       "    .dataframe thead th {\n",
       "        text-align: right;\n",
       "    }\n",
       "</style>\n",
       "<table border=\"1\" class=\"dataframe\">\n",
       "  <thead>\n",
       "    <tr style=\"text-align: right;\">\n",
       "      <th></th>\n",
       "      <th>positive_reviews</th>\n",
       "      <th>total_reviews</th>\n",
       "      <th>positive_rate</th>\n",
       "    </tr>\n",
       "    <tr>\n",
       "      <th>game_id</th>\n",
       "      <th></th>\n",
       "      <th></th>\n",
       "      <th></th>\n",
       "    </tr>\n",
       "  </thead>\n",
       "  <tbody>\n",
       "    <tr>\n",
       "      <th>939360</th>\n",
       "      <td>10</td>\n",
       "      <td>12</td>\n",
       "      <td>0.833333</td>\n",
       "    </tr>\n",
       "    <tr>\n",
       "      <th>939400</th>\n",
       "      <td>36</td>\n",
       "      <td>41</td>\n",
       "      <td>0.878049</td>\n",
       "    </tr>\n",
       "    <tr>\n",
       "      <th>939450</th>\n",
       "      <td>10</td>\n",
       "      <td>10</td>\n",
       "      <td>1.000000</td>\n",
       "    </tr>\n",
       "    <tr>\n",
       "      <th>939000</th>\n",
       "      <td>52</td>\n",
       "      <td>59</td>\n",
       "      <td>0.881356</td>\n",
       "    </tr>\n",
       "    <tr>\n",
       "      <th>939180</th>\n",
       "      <td>11</td>\n",
       "      <td>17</td>\n",
       "      <td>0.647059</td>\n",
       "    </tr>\n",
       "  </tbody>\n",
       "</table>\n",
       "</div>"
      ],
      "text/plain": [
       "         positive_reviews  total_reviews  positive_rate\n",
       "game_id                                                \n",
       "939360                 10             12       0.833333\n",
       "939400                 36             41       0.878049\n",
       "939450                 10             10       1.000000\n",
       "939000                 52             59       0.881356\n",
       "939180                 11             17       0.647059"
      ]
     },
     "execution_count": 23,
     "metadata": {},
     "output_type": "execute_result"
    }
   ],
   "source": [
    "game_reviews.head()"
   ]
  },
  {
   "cell_type": "code",
   "execution_count": 24,
   "metadata": {},
   "outputs": [
    {
     "data": {
      "text/plain": [
       "(11557, 3)"
      ]
     },
     "execution_count": 24,
     "metadata": {},
     "output_type": "execute_result"
    }
   ],
   "source": [
    "game_reviews.shape"
   ]
  },
  {
   "cell_type": "markdown",
   "metadata": {},
   "source": [
    "# EDA: Data Cleaning (game_lookup)\n",
    "---"
   ]
  },
  {
   "cell_type": "markdown",
   "metadata": {},
   "source": [
    "I will merge my game_reviews DataFrame and game_lookup together. This is to match up the game_id. Reason why is because after the filtering process from game_reviews, that eliminate a lot of games. To further filtering I will need to match the game_id on each DataFrame.  \n",
    "\n",
    "This game_lookup perform like my \"game library\" on my recommender system. "
   ]
  },
  {
   "cell_type": "code",
   "execution_count": 25,
   "metadata": {},
   "outputs": [],
   "source": [
    "game_lookup.drop('Unnamed: 0', axis=1, inplace=True)"
   ]
  },
  {
   "cell_type": "code",
   "execution_count": 26,
   "metadata": {},
   "outputs": [],
   "source": [
    "game_lookup = pd.merge(game_lookup, game_reviews[['positive_rate']], left_index=True, right_index=True)"
   ]
  },
  {
   "cell_type": "markdown",
   "metadata": {},
   "source": [
    "I will drop duplicate index. This might occur from API scrapping and merging. Therefore, this is to prevent any duplicate data."
   ]
  },
  {
   "cell_type": "code",
   "execution_count": 27,
   "metadata": {},
   "outputs": [],
   "source": [
    "game_lookup = game_lookup[~game_lookup.index.duplicated(keep=False)]"
   ]
  },
  {
   "cell_type": "markdown",
   "metadata": {},
   "source": [
    "This matched with the game_reviews."
   ]
  },
  {
   "cell_type": "code",
   "execution_count": 28,
   "metadata": {},
   "outputs": [
    {
     "data": {
      "text/plain": [
       "(11557, 2)"
      ]
     },
     "execution_count": 28,
     "metadata": {},
     "output_type": "execute_result"
    }
   ],
   "source": [
    "game_lookup.shape"
   ]
  },
  {
   "cell_type": "markdown",
   "metadata": {},
   "source": [
    "#### Some of my game title are in none-English format. I will remove anything that's not in English"
   ]
  },
  {
   "cell_type": "markdown",
   "metadata": {},
   "source": [
    "I will use a Regex to filter out the game names in English. Because I noticed some of the games are in foreign language. This will affect the result on my search function."
   ]
  },
  {
   "cell_type": "code",
   "execution_count": 29,
   "metadata": {},
   "outputs": [],
   "source": [
    "game_lookup['title'] = [re.sub(\"[^A-Za-z0-9.:']\",  \" \", str(text)) for text in game_lookup['title']]"
   ]
  },
  {
   "cell_type": "code",
   "execution_count": 30,
   "metadata": {},
   "outputs": [
    {
     "data": {
      "text/plain": [
       "(11557, 2)"
      ]
     },
     "execution_count": 30,
     "metadata": {},
     "output_type": "execute_result"
    }
   ],
   "source": [
    "game_lookup.shape"
   ]
  },
  {
   "cell_type": "code",
   "execution_count": 31,
   "metadata": {},
   "outputs": [
    {
     "data": {
      "text/html": [
       "<div>\n",
       "<style scoped>\n",
       "    .dataframe tbody tr th:only-of-type {\n",
       "        vertical-align: middle;\n",
       "    }\n",
       "\n",
       "    .dataframe tbody tr th {\n",
       "        vertical-align: top;\n",
       "    }\n",
       "\n",
       "    .dataframe thead th {\n",
       "        text-align: right;\n",
       "    }\n",
       "</style>\n",
       "<table border=\"1\" class=\"dataframe\">\n",
       "  <thead>\n",
       "    <tr style=\"text-align: right;\">\n",
       "      <th></th>\n",
       "      <th>title</th>\n",
       "      <th>positive_rate</th>\n",
       "    </tr>\n",
       "    <tr>\n",
       "      <th>game_id</th>\n",
       "      <th></th>\n",
       "      <th></th>\n",
       "    </tr>\n",
       "  </thead>\n",
       "  <tbody>\n",
       "    <tr>\n",
       "      <th>939360</th>\n",
       "      <td>Pixel FX Designer</td>\n",
       "      <td>0.833333</td>\n",
       "    </tr>\n",
       "    <tr>\n",
       "      <th>939400</th>\n",
       "      <td>LoveChoice</td>\n",
       "      <td>0.878049</td>\n",
       "    </tr>\n",
       "    <tr>\n",
       "      <th>939450</th>\n",
       "      <td>Forklift Simulator 2019</td>\n",
       "      <td>1.000000</td>\n",
       "    </tr>\n",
       "    <tr>\n",
       "      <th>939000</th>\n",
       "      <td>Crisis VRigade</td>\n",
       "      <td>0.881356</td>\n",
       "    </tr>\n",
       "    <tr>\n",
       "      <th>939180</th>\n",
       "      <td>Hentai Legends</td>\n",
       "      <td>0.647059</td>\n",
       "    </tr>\n",
       "  </tbody>\n",
       "</table>\n",
       "</div>"
      ],
      "text/plain": [
       "                           title  positive_rate\n",
       "game_id                                        \n",
       "939360         Pixel FX Designer       0.833333\n",
       "939400             LoveChoice          0.878049\n",
       "939450   Forklift Simulator 2019       1.000000\n",
       "939000            Crisis VRigade       0.881356\n",
       "939180            Hentai Legends       0.647059"
      ]
     },
     "execution_count": 31,
     "metadata": {},
     "output_type": "execute_result"
    }
   ],
   "source": [
    "game_lookup.head()"
   ]
  },
  {
   "cell_type": "code",
   "execution_count": 32,
   "metadata": {},
   "outputs": [],
   "source": [
    "game_lookup.to_csv('./datas/game_lookup.csv')"
   ]
  },
  {
   "cell_type": "markdown",
   "metadata": {},
   "source": [
    "# EDA: Data Cleaning (game_features)\n",
    "---"
   ]
  },
  {
   "cell_type": "markdown",
   "metadata": {},
   "source": [
    "I will merge my game_lookup dataframe and game_features together. This is to match up the game_id. Reason why is because after the filtering process from game_reviews and game_lookup, that eliminate a lot of games. To further filtering I will need to match the game_id on each dataframe.  \n"
   ]
  },
  {
   "cell_type": "code",
   "execution_count": 33,
   "metadata": {},
   "outputs": [],
   "source": [
    "game_features = pd.merge(game_features, game_lookup[['title']], left_index=True, right_index=True)\n",
    "game_features.drop('title', axis=1, inplace=True)"
   ]
  },
  {
   "cell_type": "code",
   "execution_count": 34,
   "metadata": {},
   "outputs": [],
   "source": [
    "game_features = game_features[~game_features.index.duplicated(keep=False)]"
   ]
  },
  {
   "cell_type": "code",
   "execution_count": 35,
   "metadata": {},
   "outputs": [
    {
     "data": {
      "text/plain": [
       "(11557, 86)"
      ]
     },
     "execution_count": 35,
     "metadata": {},
     "output_type": "execute_result"
    }
   ],
   "source": [
    "game_features.shape"
   ]
  },
  {
   "cell_type": "markdown",
   "metadata": {},
   "source": [
    "I will fill 0 with all the NaNs. 0 here means this specific features (like Action, Adventure.. etc) wasn't mentioned in this game. In other words, thie game does not contain this feature. "
   ]
  },
  {
   "cell_type": "code",
   "execution_count": 36,
   "metadata": {},
   "outputs": [
    {
     "data": {
      "text/html": [
       "<div>\n",
       "<style scoped>\n",
       "    .dataframe tbody tr th:only-of-type {\n",
       "        vertical-align: middle;\n",
       "    }\n",
       "\n",
       "    .dataframe tbody tr th {\n",
       "        vertical-align: top;\n",
       "    }\n",
       "\n",
       "    .dataframe thead th {\n",
       "        text-align: right;\n",
       "    }\n",
       "</style>\n",
       "<table border=\"1\" class=\"dataframe\">\n",
       "  <thead>\n",
       "    <tr style=\"text-align: right;\">\n",
       "      <th></th>\n",
       "      <th>Accounting</th>\n",
       "      <th>Action</th>\n",
       "      <th>Adventure</th>\n",
       "      <th>Animation &amp; Modeling</th>\n",
       "      <th>Audio Production</th>\n",
       "      <th>Captions available</th>\n",
       "      <th>Casual</th>\n",
       "      <th>Co-op</th>\n",
       "      <th>Commentary available</th>\n",
       "      <th>Cross-Platform Multiplayer</th>\n",
       "      <th>...</th>\n",
       "      <th>Экшены</th>\n",
       "      <th>Включает редактор уровней</th>\n",
       "      <th>Имеется античит Valve</th>\n",
       "      <th>Контроллер (полностью)</th>\n",
       "      <th>Мастерская Steam</th>\n",
       "      <th>Покупки внутри приложения</th>\n",
       "      <th>Mods</th>\n",
       "      <th>Mods (require HL2)</th>\n",
       "      <th>Контроллер (частично)</th>\n",
       "      <th>Приключенческие игры</th>\n",
       "    </tr>\n",
       "    <tr>\n",
       "      <th>game_id</th>\n",
       "      <th></th>\n",
       "      <th></th>\n",
       "      <th></th>\n",
       "      <th></th>\n",
       "      <th></th>\n",
       "      <th></th>\n",
       "      <th></th>\n",
       "      <th></th>\n",
       "      <th></th>\n",
       "      <th></th>\n",
       "      <th></th>\n",
       "      <th></th>\n",
       "      <th></th>\n",
       "      <th></th>\n",
       "      <th></th>\n",
       "      <th></th>\n",
       "      <th></th>\n",
       "      <th></th>\n",
       "      <th></th>\n",
       "      <th></th>\n",
       "      <th></th>\n",
       "    </tr>\n",
       "  </thead>\n",
       "  <tbody>\n",
       "    <tr>\n",
       "      <th>10</th>\n",
       "      <td>0.0</td>\n",
       "      <td>1.0</td>\n",
       "      <td>0.0</td>\n",
       "      <td>0.0</td>\n",
       "      <td>0.0</td>\n",
       "      <td>0.0</td>\n",
       "      <td>0.0</td>\n",
       "      <td>0.0</td>\n",
       "      <td>0.0</td>\n",
       "      <td>0.0</td>\n",
       "      <td>...</td>\n",
       "      <td>0.0</td>\n",
       "      <td>0.0</td>\n",
       "      <td>0.0</td>\n",
       "      <td>0.0</td>\n",
       "      <td>0.0</td>\n",
       "      <td>0.0</td>\n",
       "      <td>0.0</td>\n",
       "      <td>0.0</td>\n",
       "      <td>0.0</td>\n",
       "      <td>0.0</td>\n",
       "    </tr>\n",
       "    <tr>\n",
       "      <th>20</th>\n",
       "      <td>0.0</td>\n",
       "      <td>1.0</td>\n",
       "      <td>0.0</td>\n",
       "      <td>0.0</td>\n",
       "      <td>0.0</td>\n",
       "      <td>0.0</td>\n",
       "      <td>0.0</td>\n",
       "      <td>0.0</td>\n",
       "      <td>0.0</td>\n",
       "      <td>0.0</td>\n",
       "      <td>...</td>\n",
       "      <td>0.0</td>\n",
       "      <td>0.0</td>\n",
       "      <td>0.0</td>\n",
       "      <td>0.0</td>\n",
       "      <td>0.0</td>\n",
       "      <td>0.0</td>\n",
       "      <td>0.0</td>\n",
       "      <td>0.0</td>\n",
       "      <td>0.0</td>\n",
       "      <td>0.0</td>\n",
       "    </tr>\n",
       "    <tr>\n",
       "      <th>30</th>\n",
       "      <td>0.0</td>\n",
       "      <td>1.0</td>\n",
       "      <td>0.0</td>\n",
       "      <td>0.0</td>\n",
       "      <td>0.0</td>\n",
       "      <td>0.0</td>\n",
       "      <td>0.0</td>\n",
       "      <td>0.0</td>\n",
       "      <td>0.0</td>\n",
       "      <td>0.0</td>\n",
       "      <td>...</td>\n",
       "      <td>0.0</td>\n",
       "      <td>0.0</td>\n",
       "      <td>0.0</td>\n",
       "      <td>0.0</td>\n",
       "      <td>0.0</td>\n",
       "      <td>0.0</td>\n",
       "      <td>0.0</td>\n",
       "      <td>0.0</td>\n",
       "      <td>0.0</td>\n",
       "      <td>0.0</td>\n",
       "    </tr>\n",
       "    <tr>\n",
       "      <th>40</th>\n",
       "      <td>0.0</td>\n",
       "      <td>1.0</td>\n",
       "      <td>0.0</td>\n",
       "      <td>0.0</td>\n",
       "      <td>0.0</td>\n",
       "      <td>0.0</td>\n",
       "      <td>0.0</td>\n",
       "      <td>0.0</td>\n",
       "      <td>0.0</td>\n",
       "      <td>0.0</td>\n",
       "      <td>...</td>\n",
       "      <td>0.0</td>\n",
       "      <td>0.0</td>\n",
       "      <td>0.0</td>\n",
       "      <td>0.0</td>\n",
       "      <td>0.0</td>\n",
       "      <td>0.0</td>\n",
       "      <td>0.0</td>\n",
       "      <td>0.0</td>\n",
       "      <td>0.0</td>\n",
       "      <td>0.0</td>\n",
       "    </tr>\n",
       "    <tr>\n",
       "      <th>50</th>\n",
       "      <td>0.0</td>\n",
       "      <td>1.0</td>\n",
       "      <td>0.0</td>\n",
       "      <td>0.0</td>\n",
       "      <td>0.0</td>\n",
       "      <td>0.0</td>\n",
       "      <td>0.0</td>\n",
       "      <td>0.0</td>\n",
       "      <td>0.0</td>\n",
       "      <td>0.0</td>\n",
       "      <td>...</td>\n",
       "      <td>0.0</td>\n",
       "      <td>0.0</td>\n",
       "      <td>0.0</td>\n",
       "      <td>0.0</td>\n",
       "      <td>0.0</td>\n",
       "      <td>0.0</td>\n",
       "      <td>0.0</td>\n",
       "      <td>0.0</td>\n",
       "      <td>0.0</td>\n",
       "      <td>0.0</td>\n",
       "    </tr>\n",
       "  </tbody>\n",
       "</table>\n",
       "<p>5 rows × 86 columns</p>\n",
       "</div>"
      ],
      "text/plain": [
       "         Accounting  Action  Adventure  Animation & Modeling  \\\n",
       "game_id                                                        \n",
       "10              0.0     1.0        0.0                   0.0   \n",
       "20              0.0     1.0        0.0                   0.0   \n",
       "30              0.0     1.0        0.0                   0.0   \n",
       "40              0.0     1.0        0.0                   0.0   \n",
       "50              0.0     1.0        0.0                   0.0   \n",
       "\n",
       "         Audio Production  Captions available  Casual  Co-op  \\\n",
       "game_id                                                        \n",
       "10                    0.0                 0.0     0.0    0.0   \n",
       "20                    0.0                 0.0     0.0    0.0   \n",
       "30                    0.0                 0.0     0.0    0.0   \n",
       "40                    0.0                 0.0     0.0    0.0   \n",
       "50                    0.0                 0.0     0.0    0.0   \n",
       "\n",
       "         Commentary available  Cross-Platform Multiplayer  ...  Экшены  \\\n",
       "game_id                                                    ...           \n",
       "10                        0.0                         0.0  ...     0.0   \n",
       "20                        0.0                         0.0  ...     0.0   \n",
       "30                        0.0                         0.0  ...     0.0   \n",
       "40                        0.0                         0.0  ...     0.0   \n",
       "50                        0.0                         0.0  ...     0.0   \n",
       "\n",
       "         Включает редактор уровней  Имеется античит Valve  \\\n",
       "game_id                                                     \n",
       "10                             0.0                    0.0   \n",
       "20                             0.0                    0.0   \n",
       "30                             0.0                    0.0   \n",
       "40                             0.0                    0.0   \n",
       "50                             0.0                    0.0   \n",
       "\n",
       "         Контроллер (полностью)  Мастерская Steam  Покупки внутри приложения  \\\n",
       "game_id                                                                        \n",
       "10                          0.0               0.0                        0.0   \n",
       "20                          0.0               0.0                        0.0   \n",
       "30                          0.0               0.0                        0.0   \n",
       "40                          0.0               0.0                        0.0   \n",
       "50                          0.0               0.0                        0.0   \n",
       "\n",
       "         Mods  Mods (require HL2)  Контроллер (частично)  Приключенческие игры  \n",
       "game_id                                                                         \n",
       "10        0.0                 0.0                    0.0                   0.0  \n",
       "20        0.0                 0.0                    0.0                   0.0  \n",
       "30        0.0                 0.0                    0.0                   0.0  \n",
       "40        0.0                 0.0                    0.0                   0.0  \n",
       "50        0.0                 0.0                    0.0                   0.0  \n",
       "\n",
       "[5 rows x 86 columns]"
      ]
     },
     "execution_count": 36,
     "metadata": {},
     "output_type": "execute_result"
    }
   ],
   "source": [
    " game_features.fillna(0, inplace=True)\n",
    "game_features.head()"
   ]
  },
  {
   "cell_type": "markdown",
   "metadata": {},
   "source": [
    "Chcking the features I acquired from Web API are resonable to move on. I will do a EDA and drop out some non-important features that mentioned below."
   ]
  },
  {
   "cell_type": "code",
   "execution_count": 37,
   "metadata": {},
   "outputs": [
    {
     "data": {
      "text/plain": [
       "Index(['Accounting', 'Action', 'Adventure', 'Animation & Modeling',\n",
       "       'Audio Production', 'Captions available', 'Casual', 'Co-op',\n",
       "       'Commentary available', 'Cross-Platform Multiplayer',\n",
       "       'Design & Illustration', 'Early Access', 'Education', 'Free to Play',\n",
       "       'Full controller support', 'Game Development', 'Gore',\n",
       "       'In-App Purchases', 'Includes level editor', 'Indie', 'Local Co-op',\n",
       "       'Local Multi-Player', 'MMO', 'Massively Multiplayer', 'Multi-player',\n",
       "       'Nudity', 'Online Co-op', 'Online Multi-Player',\n",
       "       'Partial Controller Support', 'Photo Editing', 'RPG', 'Racing',\n",
       "       'Sexual Content', 'Shared/Split Screen', 'Simulation', 'Single-player',\n",
       "       'Software Training', 'Sports', 'Stats', 'Steam Achievements',\n",
       "       'Steam Cloud', 'Steam Leaderboards', 'Steam Trading Cards',\n",
       "       'Steam Workshop', 'Steam 成就', 'Steam 排行榜', 'Steam 雲端',\n",
       "       'SteamVR Collectibles', 'Strategy', 'Utilities', 'Video Production',\n",
       "       'Violent', '冒險', '動作', '單人', '獨立製作', 'Documentary',\n",
       "       'Includes Source SDK', 'Steam Turn Notifications', 'Tutorial',\n",
       "       'Web Publishing', 'VR Support', 'Valve Anti-Cheat enabled',\n",
       "       'Для нескольких игроков', 'Для одного игрока', 'Доски почета Steam',\n",
       "       'Достижения Steam', 'Имеются субтитры', 'Инди',\n",
       "       'Коллекционные карточки', 'Кооперативная игра',\n",
       "       'Кооперативная игра по сети', 'Мультиплеер по сети', 'Ролевые игры',\n",
       "       'Статистика', 'Стратегии', 'Экшены', 'Включает редактор уровней',\n",
       "       'Имеется античит Valve', 'Контроллер (полностью)', 'Мастерская Steam',\n",
       "       'Покупки внутри приложения', 'Mods', 'Mods (require HL2)',\n",
       "       'Контроллер (частично)', 'Приключенческие игры'],\n",
       "      dtype='object')"
      ]
     },
     "execution_count": 37,
     "metadata": {},
     "output_type": "execute_result"
    }
   ],
   "source": [
    "game_features.columns"
   ]
  },
  {
   "cell_type": "markdown",
   "metadata": {},
   "source": [
    "First I will replace any features that is not in plain English words to 'steam' and then drop them. If I kept the foreign features, it will affect my result. Some foreign words are redundent to the English features as well. (i.e 動作 means Action) "
   ]
  },
  {
   "cell_type": "code",
   "execution_count": 38,
   "metadata": {},
   "outputs": [],
   "source": [
    "game_features.columns = [re.sub('[^A-Za-z-/ ]', 'steam', str(text)) for text in game_features.columns]"
   ]
  },
  {
   "cell_type": "markdown",
   "metadata": {},
   "source": [
    "A lot of the features were Steam specific. Steam achievement...etc. These is a Steam excludsive features, which has nothing to do with the game itself. Because almost every game own by steam falls into steam category. Therefore; I will be removing any features that contain 'steam' on the first 5 letters."
   ]
  },
  {
   "cell_type": "code",
   "execution_count": 39,
   "metadata": {},
   "outputs": [],
   "source": [
    "cols = [c for c in game_features.columns if c.lower()[:5] == 'steam']\n",
    "game_features.drop(cols, axis=1, inplace=True)"
   ]
  },
  {
   "cell_type": "code",
   "execution_count": 40,
   "metadata": {},
   "outputs": [
    {
     "data": {
      "text/plain": [
       "Index(['Accounting', 'Action', 'Adventure', 'Animation steam Modeling',\n",
       "       'Audio Production', 'Captions available', 'Casual', 'Co-op',\n",
       "       'Commentary available', 'Cross-Platform Multiplayer',\n",
       "       'Design steam Illustration', 'Early Access', 'Education',\n",
       "       'Free to Play', 'Full controller support', 'Game Development', 'Gore',\n",
       "       'In-App Purchases', 'Includes level editor', 'Indie', 'Local Co-op',\n",
       "       'Local Multi-Player', 'MMO', 'Massively Multiplayer', 'Multi-player',\n",
       "       'Nudity', 'Online Co-op', 'Online Multi-Player',\n",
       "       'Partial Controller Support', 'Photo Editing', 'RPG', 'Racing',\n",
       "       'Sexual Content', 'Shared/Split Screen', 'Simulation', 'Single-player',\n",
       "       'Software Training', 'Sports', 'Stats', 'Strategy', 'Utilities',\n",
       "       'Video Production', 'Violent', 'Documentary', 'Includes Source SDK',\n",
       "       'Tutorial', 'Web Publishing', 'VR Support', 'Valve Anti-Cheat enabled',\n",
       "       'Mods', 'Mods steamrequire HLsteamsteam'],\n",
       "      dtype='object')"
      ]
     },
     "execution_count": 40,
     "metadata": {},
     "output_type": "execute_result"
    }
   ],
   "source": [
    "game_features.columns"
   ]
  },
  {
   "cell_type": "markdown",
   "metadata": {},
   "source": [
    "I will drop the rows that are full of NaNs, this means that the games that were dropped was in different language."
   ]
  },
  {
   "cell_type": "code",
   "execution_count": 41,
   "metadata": {},
   "outputs": [],
   "source": [
    "game_features.dropna(axis=0, how='all',inplace=True)"
   ]
  },
  {
   "cell_type": "code",
   "execution_count": 42,
   "metadata": {},
   "outputs": [
    {
     "data": {
      "text/plain": [
       "(11557, 51)"
      ]
     },
     "execution_count": 42,
     "metadata": {},
     "output_type": "execute_result"
    }
   ],
   "source": [
    "game_features.shape"
   ]
  },
  {
   "cell_type": "markdown",
   "metadata": {},
   "source": [
    "From the Bar graph below; we can deduced that around 2,500 games in my data has 4 features. followed by 5 and then 3. From this graph; I could combine some of the duplicated/similar features."
   ]
  },
  {
   "cell_type": "code",
   "execution_count": 52,
   "metadata": {
    "scrolled": false
   },
   "outputs": [
    {
     "data": {
      "image/png": "[encoded data removed]",
      "text/plain": [
       "<Figure size 720x720 with 1 Axes>"
      ]
     },
     "metadata": {
      "needs_background": "light"
     },
     "output_type": "display_data"
    }
   ],
   "source": [
    "plt.figure(figsize=(10,10))\n",
    "plt.title(f'Distribution of Feature Counts in Games', fontsize=30)\n",
    "game_features.sum(1).value_counts().sort_index().plot(kind='barh')\n",
    "plt.xlabel(f'Games', fontsize=20)\n",
    "plt.ylabel(f'Feature Counts in Games', fontsize=20)\n",
    "plt.yticks(fontsize=10)\n",
    "plt.xticks(fontsize=10)\n",
    "plt.tight_layout();\n"
   ]
  },
  {
   "cell_type": "code",
   "execution_count": 45,
   "metadata": {},
   "outputs": [],
   "source": [
    "game_features.fillna(0, inplace=True)"
   ]
  },
  {
   "cell_type": "markdown",
   "metadata": {},
   "source": [
    "I will be removing the lowest variance features. The reason why I remove this is because as you can see starting from Includes Source SDK the variance dropped dramatically, Therefore I set a threshold anything below 0.01 will be dropped. Since the variance is so low it's not significant enough to be our features."
   ]
  },
  {
   "cell_type": "code",
   "execution_count": 46,
   "metadata": {},
   "outputs": [
    {
     "data": {
      "text/plain": [
       "Accounting                        0.000000\n",
       "Tutorial                          0.000000\n",
       "Documentary                       0.000000\n",
       "Mods steamrequire HLsteamsteam    0.000087\n",
       "Mods                              0.000173\n",
       "Game Development                  0.000692\n",
       "Photo Editing                     0.001641\n",
       "Web Publishing                    0.001900\n",
       "Software Training                 0.001900\n",
       "Includes Source SDK               0.001986\n",
       "Audio Production                  0.002503\n",
       "Education                         0.002761\n",
       "Video Production                  0.003707\n",
       "Animation steam Modeling          0.005935\n",
       "Commentary available              0.007046\n",
       "Design steam Illustration         0.007642\n",
       "Valve Anti-Cheat enabled          0.008238\n",
       "Utilities                         0.009174\n",
       "dtype: float64"
      ]
     },
     "execution_count": 46,
     "metadata": {},
     "output_type": "execute_result"
    }
   ],
   "source": [
    "game_features.var().sort_values(ascending=True).head(18)"
   ]
  },
  {
   "cell_type": "markdown",
   "metadata": {},
   "source": [
    "A lot of my games mentioned Action, Adventure and Indie. These three features are going to be very important "
   ]
  },
  {
   "cell_type": "code",
   "execution_count": 47,
   "metadata": {},
   "outputs": [
    {
     "data": {
      "text/plain": [
       "Action                        0.246595\n",
       "Adventure                     0.234420\n",
       "Indie                         0.227130\n",
       "Full controller support       0.198250\n",
       "Casual                        0.197697\n",
       "Strategy                      0.160822\n",
       "Multi-player                  0.156162\n",
       "Simulation                    0.150840\n",
       "RPG                           0.148041\n",
       "Partial Controller Support    0.140615\n",
       "Online Multi-Player           0.089197\n",
       "Shared/Split Screen           0.081756\n",
       "Co-op                         0.079976\n",
       "Stats                         0.077685\n",
       "Early Access                  0.074364\n",
       "Single-player                 0.070792\n",
       "Includes level editor         0.052162\n",
       "Cross-Platform Multiplayer    0.050387\n",
       "Local Multi-Player            0.050078\n",
       "Online Co-op                  0.047516\n",
       "dtype: float64"
      ]
     },
     "execution_count": 47,
     "metadata": {},
     "output_type": "execute_result"
    }
   ],
   "source": [
    "game_features.var().sort_values(ascending=False).head(20)"
   ]
  },
  {
   "cell_type": "markdown",
   "metadata": {},
   "source": [
    "I set a threshold that if the variance has 0.01 or lower will be dropped."
   ]
  },
  {
   "cell_type": "code",
   "execution_count": 53,
   "metadata": {},
   "outputs": [],
   "source": [
    "var = game_features.columns[game_features.var() < 0.01]"
   ]
  },
  {
   "cell_type": "code",
   "execution_count": 54,
   "metadata": {},
   "outputs": [],
   "source": [
    "features_vars = []\n",
    "for i in game_features.var().sort_values(ascending=True).head(18):\n",
    "    features_vars.append(i)"
   ]
  },
  {
   "cell_type": "code",
   "execution_count": 55,
   "metadata": {},
   "outputs": [
    {
     "data": {
      "image/png": "[encoded data removed]",
      "text/plain": [
       "<Figure size 1440x720 with 1 Axes>"
      ]
     },
     "metadata": {
      "needs_background": "light"
     },
     "output_type": "display_data"
    }
   ],
   "source": [
    "plt.figure(figsize=(20,10))\n",
    "plt.barh(var, features_vars)\n",
    "plt.yticks(fontsize=20)\n",
    "plt.xticks(fontsize=20)\n",
    "plt.xlabel('Weights', fontsize=30)\n",
    "plt.title(f'Game Features Variance', fontsize=42)\n",
    "plt.tight_layout();"
   ]
  },
  {
   "cell_type": "markdown",
   "metadata": {},
   "source": [
    "The features presented above, are the features that has low variance among my DataFrame. Therefore, I will drop the features that are listed on here. If we interpret them, features like Audio Production, Mods, Photo Editing.. etc are not important when it comes to choosing a game. Therefore; dropping these features will increase the quality of our recommender. "
   ]
  },
  {
   "cell_type": "code",
   "execution_count": 56,
   "metadata": {},
   "outputs": [],
   "source": [
    "game_features.drop(var, axis=1, inplace=True)"
   ]
  },
  {
   "cell_type": "markdown",
   "metadata": {},
   "source": [
    "Now, after performing feature selection from variance, regex and features that contain 'Steam' which remove most of the unwanted features. Now I will manually interpret each columns that's left and decide if one needs to be dropped"
   ]
  },
  {
   "cell_type": "code",
   "execution_count": 57,
   "metadata": {},
   "outputs": [
    {
     "data": {
      "text/plain": [
       "Index(['Action', 'Adventure', 'Captions available', 'Casual', 'Co-op',\n",
       "       'Cross-Platform Multiplayer', 'Early Access', 'Free to Play',\n",
       "       'Full controller support', 'Gore', 'In-App Purchases',\n",
       "       'Includes level editor', 'Indie', 'Local Co-op', 'Local Multi-Player',\n",
       "       'MMO', 'Massively Multiplayer', 'Multi-player', 'Nudity',\n",
       "       'Online Co-op', 'Online Multi-Player', 'Partial Controller Support',\n",
       "       'RPG', 'Racing', 'Sexual Content', 'Shared/Split Screen', 'Simulation',\n",
       "       'Single-player', 'Sports', 'Stats', 'Strategy', 'Violent',\n",
       "       'VR Support'],\n",
       "      dtype='object')"
      ]
     },
     "execution_count": 57,
     "metadata": {},
     "output_type": "execute_result"
    }
   ],
   "source": [
    "game_features.columns"
   ]
  },
  {
   "cell_type": "markdown",
   "metadata": {},
   "source": [
    "| Features | Description | Drops |\n",
    "| --- | --- | :-: |\n",
    "| Action | the player assumes the role of a protagonist in an interactive story driven by exploration and puzzle-solving | |\n",
    "| Captions available | This will be dropoped, since captions availability isn't important in choosing games | Yes |\n",
    "| Casual | They are typically distinguished by simple rules and by reduced demands on time and learned skill | |\n",
    "| Co-op | that allows players to work together as teammates, usually against one or more AI opponents | |\n",
    "| Cross-Platform Multiplayer | This will be dropped, since cross platform means you can play with players from different platform like PS4 and XBOX | Yes |\n",
    "| Early Access | This will be dropped, Since early access isn't important for users that are looking for new games | Yes |\n",
    "| Free to Play | Free to play game |\n",
    "| Full controller support | This will be dropped, since Steam is used for PC gaming, controller support won't be the piority when looking for new game | Yes |\n",
    "| Gore | This usually falls under the game that is involed in blood, devil, or violent |\n",
    "| In-App Purchases | This will be dropped, since this won't be a good features in games | Yes |\n",
    "| Includes level editor | This will be dropped, since level ito isn't the first option when searching for games | Yes |\n",
    "| Indie | Indie also kown as Independent Video Game, These games often focus on innovation and rely on digital distribution |\n",
    "| Local Co-op | This will be dropped, since we have a coop feature already | Yes |\n",
    "| Local Multi-Player | This will be dropped, we have multiplayer feature already | Yes |\n",
    "| MMO | Also known as Massive Multiplayer Online game, an online game with large numbers of players, typically from hundreds to thousands, on the same server |\n",
    "| Massively Multiplayer | This will be dropped, we have MMO feature already | Yes |\n",
    "| Multi-player | Although this is really similar to MMO, but some games isn't massive in terms of server |\n",
    "| Nudity | scantily clad images or characters to sell or enhance games, some go further, using sex acts or nudity as a character motivation |\n",
    "| Online Co-op | This will be dropped, we have coop feature already | Yes |\n",
    "| Online Multi-Player | This will be dropped, we have MMO and Multiplayer feature already | Yes |\n",
    "| Partial Controller Support | Similar to Fullcontrollersupport feature, we will drop this | Yes |\n",
    "| RPG | Also known as Role Playing Game, where the player controls the actions of a character immersed in some well-defined world |\n",
    "| Racing | player partakes in a racing competition with any type of land, water, air or space vehicles |\n",
    "| Sexual Content | This is extreamly similar to the Nudity but this covers more than just nudity |\n",
    "| Shared/Split Screen | Will be dropped, since shared screen is not the biggest reason player considered nowadays | Yes |\n",
    "| Simulation | describes a diverse super-category of video games, generally designed to closely simulate real world activities. |\n",
    "| Single-player | This will be dropped, because a lot of Multiplayer games has singleplayer campaign or mode | Yes |\n",
    "| Sports | that simulates the practice of sports, including team sports, track and field, extreme sports and combat sports |\n",
    "| Stats | Will be dropped, this means statistic from the game | Yes |\n",
    "| Strategy | that focuses on skillful thinking and planning to achieve victory |\n",
    "| Violent | Game that contain violent content |\n",
    "| VR Support | is an interactive computer-generated experience taking place within a simulated environment |\n",
    "| Valve Anti-Cheat enabled | Anit-Cheat System | Yes |\n",
    "\n",
    "\n",
    "\n"
   ]
  },
  {
   "cell_type": "markdown",
   "metadata": {},
   "source": [
    "Seems like a lot of the features are really similar to each other. I am going to create a list of the similar features and combine them. This will increase the quality of my result as well."
   ]
  },
  {
   "cell_type": "code",
   "execution_count": 58,
   "metadata": {},
   "outputs": [],
   "source": [
    "mmo_list = ['Massively Multiplayer',\n",
    "        'MMO'\n",
    "]"
   ]
  },
  {
   "cell_type": "code",
   "execution_count": 59,
   "metadata": {},
   "outputs": [],
   "source": [
    "multiplayer_list = ['Cross-Platform Multiplayer',\n",
    "             'Local Multi-Player',\n",
    "             'Online Multi-Player',\n",
    "            'Shared/Split Screen',\n",
    "            'Multi-player',\n",
    "]"
   ]
  },
  {
   "cell_type": "code",
   "execution_count": 60,
   "metadata": {},
   "outputs": [],
   "source": [
    "coop_list = ['Local Co-op',\n",
    "             'Online Co-op',\n",
    "             'Co-op'\n",
    "]"
   ]
  },
  {
   "cell_type": "markdown",
   "metadata": {},
   "source": [
    "MMO and Massively Multiplayer are extremely similar to each other. Therefore; I will combine these two features together."
   ]
  },
  {
   "cell_type": "code",
   "execution_count": 61,
   "metadata": {},
   "outputs": [],
   "source": [
    "game_features['MMO'] = game_features[mmo_list].sum(1) > 0"
   ]
  },
  {
   "cell_type": "markdown",
   "metadata": {},
   "source": [
    "There are many `multi-player` categories in my features. I will combine them since they're extremely similar to each other."
   ]
  },
  {
   "cell_type": "code",
   "execution_count": 62,
   "metadata": {},
   "outputs": [],
   "source": [
    "game_features['Multi-player'] = game_features[multiplayer_list].sum(1) > 0"
   ]
  },
  {
   "cell_type": "markdown",
   "metadata": {},
   "source": [
    "There were three Co-ops features in my DataFrame. They're all falling under Co-op category; therefore I will combine them."
   ]
  },
  {
   "cell_type": "code",
   "execution_count": 63,
   "metadata": {},
   "outputs": [],
   "source": [
    "game_features['Co-op'] = game_features[coop_list].sum(1) > 0"
   ]
  },
  {
   "cell_type": "markdown",
   "metadata": {},
   "source": [
    "After combining the features. I will drop them, so there won't be any duplicates in my features."
   ]
  },
  {
   "cell_type": "code",
   "execution_count": 64,
   "metadata": {},
   "outputs": [],
   "source": [
    "drop_list = ['Captions available',\n",
    "             'Cross-Platform Multiplayer',\n",
    "             'Early Access',\n",
    "             'Full controller support',\n",
    "             'In-App Purchases',\n",
    "             'Includes level editor',\n",
    "             'Local Co-op',\n",
    "             'Local Multi-Player',\n",
    "             'Massively Multiplayer',\n",
    "             'Online Co-op',\n",
    "             'Online Multi-Player',\n",
    "             'Partial Controller Support',\n",
    "             'Shared/Split Screen',\n",
    "             'Single-player',\n",
    "             'Stats']"
   ]
  },
  {
   "cell_type": "code",
   "execution_count": 65,
   "metadata": {},
   "outputs": [],
   "source": [
    "game_features.drop(drop_list, axis=1, inplace=True)"
   ]
  },
  {
   "cell_type": "markdown",
   "metadata": {},
   "source": [
    "I will get a return of True and False on the features that I just combined. I will change that to Ture is 1.0 and False should be 0.0. "
   ]
  },
  {
   "cell_type": "code",
   "execution_count": 70,
   "metadata": {},
   "outputs": [],
   "source": [
    "game_features[['Co-op', 'MMO','Multi-player']] = game_features[['Co-op', 'MMO','Multi-player']].astype(float)\n"
   ]
  },
  {
   "cell_type": "markdown",
   "metadata": {},
   "source": [
    "After filtering, we only have 18 unique features for 11,557 games. Therefore, I will include the game description as part of my features as well."
   ]
  },
  {
   "cell_type": "code",
   "execution_count": 71,
   "metadata": {},
   "outputs": [
    {
     "data": {
      "text/plain": [
       "(11557, 18)"
      ]
     },
     "execution_count": 71,
     "metadata": {},
     "output_type": "execute_result"
    }
   ],
   "source": [
    "game_features.shape"
   ]
  },
  {
   "cell_type": "code",
   "execution_count": 72,
   "metadata": {},
   "outputs": [
    {
     "data": {
      "text/html": [
       "<div>\n",
       "<style scoped>\n",
       "    .dataframe tbody tr th:only-of-type {\n",
       "        vertical-align: middle;\n",
       "    }\n",
       "\n",
       "    .dataframe tbody tr th {\n",
       "        vertical-align: top;\n",
       "    }\n",
       "\n",
       "    .dataframe thead th {\n",
       "        text-align: right;\n",
       "    }\n",
       "</style>\n",
       "<table border=\"1\" class=\"dataframe\">\n",
       "  <thead>\n",
       "    <tr style=\"text-align: right;\">\n",
       "      <th></th>\n",
       "      <th>Action</th>\n",
       "      <th>Adventure</th>\n",
       "      <th>Casual</th>\n",
       "      <th>Co-op</th>\n",
       "      <th>Free to Play</th>\n",
       "      <th>Gore</th>\n",
       "      <th>Indie</th>\n",
       "      <th>MMO</th>\n",
       "      <th>Multi-player</th>\n",
       "      <th>Nudity</th>\n",
       "      <th>RPG</th>\n",
       "      <th>Racing</th>\n",
       "      <th>Sexual Content</th>\n",
       "      <th>Simulation</th>\n",
       "      <th>Sports</th>\n",
       "      <th>Strategy</th>\n",
       "      <th>Violent</th>\n",
       "      <th>VR Support</th>\n",
       "    </tr>\n",
       "    <tr>\n",
       "      <th>game_id</th>\n",
       "      <th></th>\n",
       "      <th></th>\n",
       "      <th></th>\n",
       "      <th></th>\n",
       "      <th></th>\n",
       "      <th></th>\n",
       "      <th></th>\n",
       "      <th></th>\n",
       "      <th></th>\n",
       "      <th></th>\n",
       "      <th></th>\n",
       "      <th></th>\n",
       "      <th></th>\n",
       "      <th></th>\n",
       "      <th></th>\n",
       "      <th></th>\n",
       "      <th></th>\n",
       "      <th></th>\n",
       "    </tr>\n",
       "  </thead>\n",
       "  <tbody>\n",
       "    <tr>\n",
       "      <th>10</th>\n",
       "      <td>1.0</td>\n",
       "      <td>0.0</td>\n",
       "      <td>0.0</td>\n",
       "      <td>0.0</td>\n",
       "      <td>0.0</td>\n",
       "      <td>0.0</td>\n",
       "      <td>0.0</td>\n",
       "      <td>0.0</td>\n",
       "      <td>1.0</td>\n",
       "      <td>0.0</td>\n",
       "      <td>0.0</td>\n",
       "      <td>0.0</td>\n",
       "      <td>0.0</td>\n",
       "      <td>0.0</td>\n",
       "      <td>0.0</td>\n",
       "      <td>0.0</td>\n",
       "      <td>0.0</td>\n",
       "      <td>0.0</td>\n",
       "    </tr>\n",
       "    <tr>\n",
       "      <th>20</th>\n",
       "      <td>1.0</td>\n",
       "      <td>0.0</td>\n",
       "      <td>0.0</td>\n",
       "      <td>0.0</td>\n",
       "      <td>0.0</td>\n",
       "      <td>0.0</td>\n",
       "      <td>0.0</td>\n",
       "      <td>0.0</td>\n",
       "      <td>1.0</td>\n",
       "      <td>0.0</td>\n",
       "      <td>0.0</td>\n",
       "      <td>0.0</td>\n",
       "      <td>0.0</td>\n",
       "      <td>0.0</td>\n",
       "      <td>0.0</td>\n",
       "      <td>0.0</td>\n",
       "      <td>0.0</td>\n",
       "      <td>0.0</td>\n",
       "    </tr>\n",
       "    <tr>\n",
       "      <th>30</th>\n",
       "      <td>1.0</td>\n",
       "      <td>0.0</td>\n",
       "      <td>0.0</td>\n",
       "      <td>0.0</td>\n",
       "      <td>0.0</td>\n",
       "      <td>0.0</td>\n",
       "      <td>0.0</td>\n",
       "      <td>0.0</td>\n",
       "      <td>1.0</td>\n",
       "      <td>0.0</td>\n",
       "      <td>0.0</td>\n",
       "      <td>0.0</td>\n",
       "      <td>0.0</td>\n",
       "      <td>0.0</td>\n",
       "      <td>0.0</td>\n",
       "      <td>0.0</td>\n",
       "      <td>0.0</td>\n",
       "      <td>0.0</td>\n",
       "    </tr>\n",
       "    <tr>\n",
       "      <th>40</th>\n",
       "      <td>1.0</td>\n",
       "      <td>0.0</td>\n",
       "      <td>0.0</td>\n",
       "      <td>0.0</td>\n",
       "      <td>0.0</td>\n",
       "      <td>0.0</td>\n",
       "      <td>0.0</td>\n",
       "      <td>0.0</td>\n",
       "      <td>1.0</td>\n",
       "      <td>0.0</td>\n",
       "      <td>0.0</td>\n",
       "      <td>0.0</td>\n",
       "      <td>0.0</td>\n",
       "      <td>0.0</td>\n",
       "      <td>0.0</td>\n",
       "      <td>0.0</td>\n",
       "      <td>0.0</td>\n",
       "      <td>0.0</td>\n",
       "    </tr>\n",
       "    <tr>\n",
       "      <th>50</th>\n",
       "      <td>1.0</td>\n",
       "      <td>0.0</td>\n",
       "      <td>0.0</td>\n",
       "      <td>0.0</td>\n",
       "      <td>0.0</td>\n",
       "      <td>0.0</td>\n",
       "      <td>0.0</td>\n",
       "      <td>0.0</td>\n",
       "      <td>1.0</td>\n",
       "      <td>0.0</td>\n",
       "      <td>0.0</td>\n",
       "      <td>0.0</td>\n",
       "      <td>0.0</td>\n",
       "      <td>0.0</td>\n",
       "      <td>0.0</td>\n",
       "      <td>0.0</td>\n",
       "      <td>0.0</td>\n",
       "      <td>0.0</td>\n",
       "    </tr>\n",
       "  </tbody>\n",
       "</table>\n",
       "</div>"
      ],
      "text/plain": [
       "         Action  Adventure  Casual  Co-op  Free to Play  Gore  Indie  MMO  \\\n",
       "game_id                                                                     \n",
       "10          1.0        0.0     0.0    0.0           0.0   0.0    0.0  0.0   \n",
       "20          1.0        0.0     0.0    0.0           0.0   0.0    0.0  0.0   \n",
       "30          1.0        0.0     0.0    0.0           0.0   0.0    0.0  0.0   \n",
       "40          1.0        0.0     0.0    0.0           0.0   0.0    0.0  0.0   \n",
       "50          1.0        0.0     0.0    0.0           0.0   0.0    0.0  0.0   \n",
       "\n",
       "         Multi-player  Nudity  RPG  Racing  Sexual Content  Simulation  \\\n",
       "game_id                                                                  \n",
       "10                1.0     0.0  0.0     0.0             0.0         0.0   \n",
       "20                1.0     0.0  0.0     0.0             0.0         0.0   \n",
       "30                1.0     0.0  0.0     0.0             0.0         0.0   \n",
       "40                1.0     0.0  0.0     0.0             0.0         0.0   \n",
       "50                1.0     0.0  0.0     0.0             0.0         0.0   \n",
       "\n",
       "         Sports  Strategy  Violent  VR Support  \n",
       "game_id                                         \n",
       "10          0.0       0.0      0.0         0.0  \n",
       "20          0.0       0.0      0.0         0.0  \n",
       "30          0.0       0.0      0.0         0.0  \n",
       "40          0.0       0.0      0.0         0.0  \n",
       "50          0.0       0.0      0.0         0.0  "
      ]
     },
     "execution_count": 72,
     "metadata": {},
     "output_type": "execute_result"
    }
   ],
   "source": [
    "game_features.head()"
   ]
  },
  {
   "cell_type": "code",
   "execution_count": 73,
   "metadata": {},
   "outputs": [],
   "source": [
    "game_features.to_csv('./datas/game_features.csv')"
   ]
  },
  {
   "cell_type": "markdown",
   "metadata": {},
   "source": [
    "# EDA: Data Cleaning (game_description)\n",
    "---"
   ]
  },
  {
   "cell_type": "markdown",
   "metadata": {},
   "source": [
    "**In big picture:**\n",
    "\n",
    "Since I am going to use the game description as part of my features from each game. I am going to clean up the text and perfrom a tozkenization followed by lemmatization to seperates the context into each individual words and use it as part of my features."
   ]
  },
  {
   "cell_type": "markdown",
   "metadata": {},
   "source": [
    "I will merge my game_lookup DataFrame and game_description together. This is to match up the game_id. Reason why is because after the filtering process from game_reviews and game_lookup, that eliminate a lot of games. To further filtering I will need to match the game_id on each DataFrame.  \n"
   ]
  },
  {
   "cell_type": "code",
   "execution_count": 74,
   "metadata": {},
   "outputs": [],
   "source": [
    "game_description = pd.merge(game_description, game_features[['Action']], left_index=True, right_index=True)\n",
    "game_description.drop('Action', axis=1, inplace=True)"
   ]
  },
  {
   "cell_type": "code",
   "execution_count": 75,
   "metadata": {},
   "outputs": [],
   "source": [
    "game_description = game_description[~game_description.index.duplicated(keep=False)]"
   ]
  },
  {
   "cell_type": "code",
   "execution_count": 76,
   "metadata": {},
   "outputs": [
    {
     "data": {
      "text/plain": [
       "(11557, 1)"
      ]
     },
     "execution_count": 76,
     "metadata": {},
     "output_type": "execute_result"
    }
   ],
   "source": [
    "game_description.shape"
   ]
  },
  {
   "cell_type": "markdown",
   "metadata": {},
   "source": [
    "**Regular Expression(Regex)**\n",
    "\n",
    "I've used Regular Expression to remove the context that contained something like website links or html format context. So I only keeping the clean game description."
   ]
  },
  {
   "cell_type": "code",
   "execution_count": 77,
   "metadata": {},
   "outputs": [],
   "source": [
    "game_description['game_description'] = game_description.game_description.map(lambda x: re.sub('[0-9]', ' ',str(x)))"
   ]
  },
  {
   "cell_type": "markdown",
   "metadata": {},
   "source": [
    "There are several unwanted text within my game_description; text like html and links. I will perform a Regex to clean out the unwanted text and format."
   ]
  },
  {
   "cell_type": "code",
   "execution_count": 78,
   "metadata": {},
   "outputs": [],
   "source": [
    "game_description['game_description'] = [re.sub('<\\w+ \\w+=\\\"[^\\>]*>', ' ',\n",
    "                                               re.sub('<[\\w\\s/]+>', ' ',\n",
    "                                                      re.sub('\\t', ' ',\n",
    "                                                             re.sub('\\n', ' ',\n",
    "                                                                    re.sub('\\r',  '', str(text)))))) for text in game_description.game_description]"
   ]
  },
  {
   "cell_type": "code",
   "execution_count": 79,
   "metadata": {},
   "outputs": [],
   "source": [
    "game_description['game_description'] = [re.sub('[^A-Za-z-/: ]', ' ', str(text)) for text in game_description.game_description]"
   ]
  },
  {
   "cell_type": "markdown",
   "metadata": {},
   "source": [
    "**tokenized:**\n",
    "\n",
    "\n",
    "We instantiate tokenizer and define the search pattern using r'\\w+ as our regular expression. We only want to search through words and omit digits and symbols since they cannot serve as keywords in our digital network campaign.\n",
    "\n",
    "It separates the words in the context into a list of string so we can perform lemmatization.\n"
   ]
  },
  {
   "cell_type": "code",
   "execution_count": 80,
   "metadata": {},
   "outputs": [],
   "source": [
    "lemmatizer = WordNetLemmatizer()\n",
    "tokenizer = RegexpTokenizer(r'\\w+')\n"
   ]
  },
  {
   "cell_type": "markdown",
   "metadata": {},
   "source": [
    "**lemmatized:** \n",
    "\n",
    "After the context has been tokenized, Then I apply it to lemmatization.\n",
    "\n",
    "Lemmatization is a form of shortening words so I can combine similar forms of the same word. When I Lemmatize the context, I take words and attempt to return their lemma, or the base/dictionary form of a word."
   ]
  },
  {
   "cell_type": "code",
   "execution_count": 81,
   "metadata": {},
   "outputs": [],
   "source": [
    "game_description['tokenized'] = game_description['game_description'].apply(lambda x: tokenizer.tokenize(x))"
   ]
  },
  {
   "cell_type": "markdown",
   "metadata": {},
   "source": [
    "I will create a new column in my DataFrame that named lemmatized and tokenized, then join them together. As demonstrated below you can see the process of what tokenized and lemmatization do to the game_description."
   ]
  },
  {
   "cell_type": "code",
   "execution_count": 82,
   "metadata": {},
   "outputs": [],
   "source": [
    "game_description['lemmatized']  = game_description['tokenized'].map(lambda x: ' '.join(lemmatizer.lemmatize(word) for word in x))"
   ]
  },
  {
   "cell_type": "code",
   "execution_count": 83,
   "metadata": {},
   "outputs": [
    {
     "data": {
      "text/html": [
       "<div>\n",
       "<style scoped>\n",
       "    .dataframe tbody tr th:only-of-type {\n",
       "        vertical-align: middle;\n",
       "    }\n",
       "\n",
       "    .dataframe tbody tr th {\n",
       "        vertical-align: top;\n",
       "    }\n",
       "\n",
       "    .dataframe thead th {\n",
       "        text-align: right;\n",
       "    }\n",
       "</style>\n",
       "<table border=\"1\" class=\"dataframe\">\n",
       "  <thead>\n",
       "    <tr style=\"text-align: right;\">\n",
       "      <th></th>\n",
       "      <th>game_description</th>\n",
       "      <th>tokenized</th>\n",
       "      <th>lemmatized</th>\n",
       "    </tr>\n",
       "    <tr>\n",
       "      <th>game_id</th>\n",
       "      <th></th>\n",
       "      <th></th>\n",
       "      <th></th>\n",
       "    </tr>\n",
       "  </thead>\n",
       "  <tbody>\n",
       "    <tr>\n",
       "      <th>10</th>\n",
       "      <td>Play the world s number   online action game  ...</td>\n",
       "      <td>[Play, the, world, s, number, online, action, ...</td>\n",
       "      <td>Play the world s number online action game Eng...</td>\n",
       "    </tr>\n",
       "    <tr>\n",
       "      <th>20</th>\n",
       "      <td>One of the most popular online action games of...</td>\n",
       "      <td>[One, of, the, most, popular, online, action, ...</td>\n",
       "      <td>One of the most popular online action game of ...</td>\n",
       "    </tr>\n",
       "    <tr>\n",
       "      <th>30</th>\n",
       "      <td>Enlist in an intense brand of Axis vs  Allied ...</td>\n",
       "      <td>[Enlist, in, an, intense, brand, of, Axis, vs,...</td>\n",
       "      <td>Enlist in an intense brand of Axis v Allied te...</td>\n",
       "    </tr>\n",
       "    <tr>\n",
       "      <th>40</th>\n",
       "      <td>Enjoy fast-paced multiplayer gaming with Death...</td>\n",
       "      <td>[Enjoy, fast, paced, multiplayer, gaming, with...</td>\n",
       "      <td>Enjoy fast paced multiplayer gaming with Death...</td>\n",
       "    </tr>\n",
       "    <tr>\n",
       "      <th>50</th>\n",
       "      <td>Return to the Black Mesa Research Facility as ...</td>\n",
       "      <td>[Return, to, the, Black, Mesa, Research, Facil...</td>\n",
       "      <td>Return to the Black Mesa Research Facility a o...</td>\n",
       "    </tr>\n",
       "  </tbody>\n",
       "</table>\n",
       "</div>"
      ],
      "text/plain": [
       "                                          game_description  \\\n",
       "game_id                                                      \n",
       "10       Play the world s number   online action game  ...   \n",
       "20       One of the most popular online action games of...   \n",
       "30       Enlist in an intense brand of Axis vs  Allied ...   \n",
       "40       Enjoy fast-paced multiplayer gaming with Death...   \n",
       "50       Return to the Black Mesa Research Facility as ...   \n",
       "\n",
       "                                                 tokenized  \\\n",
       "game_id                                                      \n",
       "10       [Play, the, world, s, number, online, action, ...   \n",
       "20       [One, of, the, most, popular, online, action, ...   \n",
       "30       [Enlist, in, an, intense, brand, of, Axis, vs,...   \n",
       "40       [Enjoy, fast, paced, multiplayer, gaming, with...   \n",
       "50       [Return, to, the, Black, Mesa, Research, Facil...   \n",
       "\n",
       "                                                lemmatized  \n",
       "game_id                                                     \n",
       "10       Play the world s number online action game Eng...  \n",
       "20       One of the most popular online action game of ...  \n",
       "30       Enlist in an intense brand of Axis v Allied te...  \n",
       "40       Enjoy fast paced multiplayer gaming with Death...  \n",
       "50       Return to the Black Mesa Research Facility a o...  "
      ]
     },
     "execution_count": 83,
     "metadata": {},
     "output_type": "execute_result"
    }
   ],
   "source": [
    "game_description.head()"
   ]
  },
  {
   "cell_type": "markdown",
   "metadata": {},
   "source": [
    "**Stopwords and tfidf**\n",
    "\n",
    "I added many additional stopwords into the default 'English'. This will exclude some basic English words like 'the, this, that, in, a....etc'. Reason why we do this is because I only want to include the important words that will be a good fit to represent as the game's feature.\n",
    "\n",
    "\n",
    "Tfidf: This tells us which words are most discriminating between documents. Words that occur a lot in one document but doesn't occur in many documents will tell you something special about the document.\n",
    "Tfidf relies on two stats: term frequency, and inverse document frequency"
   ]
  },
  {
   "cell_type": "markdown",
   "metadata": {},
   "source": [
    "I manually removed the words because after several attempts of performing the model, words like \"quot\" \"ii\" \"mode\" \"steam\" \"bb_tag\" \"new\" \"aaa\" etc appears a lot. These words doesn't have any meaning into them. Also, because above words is irrelevant to my topic. Also, since I obtain my DataFrame from Steam therefore I will remove that. "
   ]
  },
  {
   "cell_type": "code",
   "execution_count": 84,
   "metadata": {},
   "outputs": [],
   "source": [
    "stopwords = nltk.corpus.stopwords.words('english')\n",
    "stopwords.extend(['quot',\n",
    "    'ii', \n",
    "    'mode', \n",
    "    'steam', \n",
    "    'bb_tag', \n",
    "    'game', \n",
    "    'new', \n",
    "    'aaa', \n",
    "    'aa', \n",
    "    'nan', \n",
    "    'putt', \n",
    "    'ys', \n",
    "    'pac', \n",
    "    'nancy', \n",
    "    'lara', \n",
    "    'ea', \n",
    "    'pac', \n",
    "    'pug', \n",
    "    'gnu', \n",
    "    'jedi', \n",
    "    'lego', \n",
    "    'gpl', \n",
    "    'sonic', \n",
    "    'sam', \n",
    "    'jack', \n",
    "    'park', \n",
    "    'souls', \n",
    "    'worm', \n",
    "    'mar', \n",
    "    'nazi', \n",
    "    'batman', \n",
    "    'cry', \n",
    "    'sister', \n",
    "    'coaster', \n",
    "])"
   ]
  },
  {
   "cell_type": "markdown",
   "metadata": {},
   "source": [
    "I will performed a Tfidf Vectorizer on my game_description, the stopwords will be the words that mentioned above along with the default English words. `min_df` and `max_df` \n",
    "\n",
    " - min_df: When building the vocabulary ignore terms that have a document frequency strictly lower than the given threshold. So words that mentioned 20 or more times will be included into my DataFrame; anything lower than that will be too little and will be dropped as well.\n",
    " - max_df: When building the vocabulary ignore terms that have a document frequency strictly higher than 95%. So if a word appears in my dataset for more than 95% it will be dropped. These words usually are the none default and was mentioned a lot. This words are most likely not useful."
   ]
  },
  {
   "cell_type": "code",
   "execution_count": 85,
   "metadata": {},
   "outputs": [],
   "source": [
    "tfidf = TfidfVectorizer(stop_words=stopwords, min_df=20, max_df=.95)"
   ]
  },
  {
   "cell_type": "markdown",
   "metadata": {},
   "source": [
    "I fit my lemmatized words from my DataFrame into the tfidf vectorizer that I set above to perform the tfidf along with the threshold."
   ]
  },
  {
   "cell_type": "code",
   "execution_count": 86,
   "metadata": {},
   "outputs": [],
   "source": [
    "game_raw = tfidf.fit_transform(game_description['lemmatized'])"
   ]
  },
  {
   "cell_type": "markdown",
   "metadata": {},
   "source": [
    "I am changing my game_tfidf DataFrame to Sparse data, reason being that Sparse data structures allow us to store only non-zero values assuming the rest of them are zeros. This approach saves a lot of memory and computing time. In fact, you can often encounter such matrices when working with NLP or machine learning tasks."
   ]
  },
  {
   "cell_type": "code",
   "execution_count": 87,
   "metadata": {},
   "outputs": [],
   "source": [
    "game_tfidf = pd.SparseDataFrame(game_raw, columns=tfidf.get_feature_names())"
   ]
  },
  {
   "cell_type": "code",
   "execution_count": 88,
   "metadata": {},
   "outputs": [
    {
     "data": {
      "text/html": [
       "<div>\n",
       "<style scoped>\n",
       "    .dataframe tbody tr th:only-of-type {\n",
       "        vertical-align: middle;\n",
       "    }\n",
       "\n",
       "    .dataframe tbody tr th {\n",
       "        vertical-align: top;\n",
       "    }\n",
       "\n",
       "    .dataframe thead th {\n",
       "        text-align: right;\n",
       "    }\n",
       "</style>\n",
       "<table border=\"1\" class=\"dataframe\">\n",
       "  <thead>\n",
       "    <tr style=\"text-align: right;\">\n",
       "      <th></th>\n",
       "      <th>abandon</th>\n",
       "      <th>abandoned</th>\n",
       "      <th>abducted</th>\n",
       "      <th>abilities</th>\n",
       "      <th>ability</th>\n",
       "      <th>able</th>\n",
       "      <th>aboard</th>\n",
       "      <th>abomination</th>\n",
       "      <th>abound</th>\n",
       "      <th>absolute</th>\n",
       "      <th>...</th>\n",
       "      <th>zany</th>\n",
       "      <th>zelda</th>\n",
       "      <th>zen</th>\n",
       "      <th>zero</th>\n",
       "      <th>zip</th>\n",
       "      <th>zombie</th>\n",
       "      <th>zombies</th>\n",
       "      <th>zone</th>\n",
       "      <th>zoo</th>\n",
       "      <th>zoom</th>\n",
       "    </tr>\n",
       "  </thead>\n",
       "  <tbody>\n",
       "    <tr>\n",
       "      <th>0</th>\n",
       "      <td>NaN</td>\n",
       "      <td>NaN</td>\n",
       "      <td>NaN</td>\n",
       "      <td>NaN</td>\n",
       "      <td>NaN</td>\n",
       "      <td>NaN</td>\n",
       "      <td>NaN</td>\n",
       "      <td>NaN</td>\n",
       "      <td>NaN</td>\n",
       "      <td>NaN</td>\n",
       "      <td>...</td>\n",
       "      <td>NaN</td>\n",
       "      <td>NaN</td>\n",
       "      <td>NaN</td>\n",
       "      <td>NaN</td>\n",
       "      <td>NaN</td>\n",
       "      <td>NaN</td>\n",
       "      <td>NaN</td>\n",
       "      <td>NaN</td>\n",
       "      <td>NaN</td>\n",
       "      <td>NaN</td>\n",
       "    </tr>\n",
       "    <tr>\n",
       "      <th>1</th>\n",
       "      <td>NaN</td>\n",
       "      <td>NaN</td>\n",
       "      <td>NaN</td>\n",
       "      <td>NaN</td>\n",
       "      <td>0.116701</td>\n",
       "      <td>NaN</td>\n",
       "      <td>NaN</td>\n",
       "      <td>NaN</td>\n",
       "      <td>NaN</td>\n",
       "      <td>NaN</td>\n",
       "      <td>...</td>\n",
       "      <td>NaN</td>\n",
       "      <td>NaN</td>\n",
       "      <td>NaN</td>\n",
       "      <td>NaN</td>\n",
       "      <td>NaN</td>\n",
       "      <td>NaN</td>\n",
       "      <td>NaN</td>\n",
       "      <td>NaN</td>\n",
       "      <td>NaN</td>\n",
       "      <td>NaN</td>\n",
       "    </tr>\n",
       "    <tr>\n",
       "      <th>2</th>\n",
       "      <td>NaN</td>\n",
       "      <td>NaN</td>\n",
       "      <td>NaN</td>\n",
       "      <td>NaN</td>\n",
       "      <td>NaN</td>\n",
       "      <td>NaN</td>\n",
       "      <td>NaN</td>\n",
       "      <td>NaN</td>\n",
       "      <td>NaN</td>\n",
       "      <td>NaN</td>\n",
       "      <td>...</td>\n",
       "      <td>NaN</td>\n",
       "      <td>NaN</td>\n",
       "      <td>NaN</td>\n",
       "      <td>NaN</td>\n",
       "      <td>NaN</td>\n",
       "      <td>NaN</td>\n",
       "      <td>NaN</td>\n",
       "      <td>NaN</td>\n",
       "      <td>NaN</td>\n",
       "      <td>NaN</td>\n",
       "    </tr>\n",
       "    <tr>\n",
       "      <th>3</th>\n",
       "      <td>NaN</td>\n",
       "      <td>NaN</td>\n",
       "      <td>NaN</td>\n",
       "      <td>NaN</td>\n",
       "      <td>NaN</td>\n",
       "      <td>NaN</td>\n",
       "      <td>NaN</td>\n",
       "      <td>NaN</td>\n",
       "      <td>NaN</td>\n",
       "      <td>NaN</td>\n",
       "      <td>...</td>\n",
       "      <td>NaN</td>\n",
       "      <td>NaN</td>\n",
       "      <td>NaN</td>\n",
       "      <td>NaN</td>\n",
       "      <td>NaN</td>\n",
       "      <td>NaN</td>\n",
       "      <td>NaN</td>\n",
       "      <td>NaN</td>\n",
       "      <td>NaN</td>\n",
       "      <td>NaN</td>\n",
       "    </tr>\n",
       "    <tr>\n",
       "      <th>4</th>\n",
       "      <td>NaN</td>\n",
       "      <td>NaN</td>\n",
       "      <td>NaN</td>\n",
       "      <td>NaN</td>\n",
       "      <td>NaN</td>\n",
       "      <td>NaN</td>\n",
       "      <td>NaN</td>\n",
       "      <td>NaN</td>\n",
       "      <td>NaN</td>\n",
       "      <td>NaN</td>\n",
       "      <td>...</td>\n",
       "      <td>NaN</td>\n",
       "      <td>NaN</td>\n",
       "      <td>NaN</td>\n",
       "      <td>NaN</td>\n",
       "      <td>NaN</td>\n",
       "      <td>NaN</td>\n",
       "      <td>NaN</td>\n",
       "      <td>NaN</td>\n",
       "      <td>NaN</td>\n",
       "      <td>NaN</td>\n",
       "    </tr>\n",
       "  </tbody>\n",
       "</table>\n",
       "<p>5 rows × 6742 columns</p>\n",
       "</div>"
      ],
      "text/plain": [
       "   abandon  abandoned  abducted  abilities   ability  able  aboard  \\\n",
       "0      NaN        NaN       NaN        NaN       NaN   NaN     NaN   \n",
       "1      NaN        NaN       NaN        NaN  0.116701   NaN     NaN   \n",
       "2      NaN        NaN       NaN        NaN       NaN   NaN     NaN   \n",
       "3      NaN        NaN       NaN        NaN       NaN   NaN     NaN   \n",
       "4      NaN        NaN       NaN        NaN       NaN   NaN     NaN   \n",
       "\n",
       "   abomination  abound  absolute  ...  zany  zelda  zen  zero  zip  zombie  \\\n",
       "0          NaN     NaN       NaN  ...   NaN    NaN  NaN   NaN  NaN     NaN   \n",
       "1          NaN     NaN       NaN  ...   NaN    NaN  NaN   NaN  NaN     NaN   \n",
       "2          NaN     NaN       NaN  ...   NaN    NaN  NaN   NaN  NaN     NaN   \n",
       "3          NaN     NaN       NaN  ...   NaN    NaN  NaN   NaN  NaN     NaN   \n",
       "4          NaN     NaN       NaN  ...   NaN    NaN  NaN   NaN  NaN     NaN   \n",
       "\n",
       "   zombies  zone  zoo  zoom  \n",
       "0      NaN   NaN  NaN   NaN  \n",
       "1      NaN   NaN  NaN   NaN  \n",
       "2      NaN   NaN  NaN   NaN  \n",
       "3      NaN   NaN  NaN   NaN  \n",
       "4      NaN   NaN  NaN   NaN  \n",
       "\n",
       "[5 rows x 6742 columns]"
      ]
     },
     "execution_count": 88,
     "metadata": {},
     "output_type": "execute_result"
    }
   ],
   "source": [
    "game_tfidf.head()"
   ]
  },
  {
   "cell_type": "code",
   "execution_count": 89,
   "metadata": {
    "scrolled": false
   },
   "outputs": [
    {
     "data": {
      "image/png": "[encoded data removed]",
      "text/plain": [
       "<Figure size 1440x720 with 1 Axes>"
      ]
     },
     "metadata": {
      "needs_background": "light"
     },
     "output_type": "display_data"
    }
   ],
   "source": [
    "plt.figure(figsize=(20, 10))\n",
    "plt.barh(y = game_tfidf.apply(lambda x: x.mean(), axis=0).sort_values(ascending=False)[:10].index,\n",
    "         width = game_tfidf.apply(lambda x: x.mean(), axis=0).sort_values(ascending=False)[:10].values)\n",
    "plt.title('Top Word Weights for Description', fontsize=30)\n",
    "plt.xlabel('Weights of Words', fontsize=15)\n",
    "plt.xticks(fontsize=15)\n",
    "plt.yticks(fontsize=15);"
   ]
  },
  {
   "cell_type": "markdown",
   "metadata": {},
   "source": [
    "Based on the graph below we can deduced that the top ten words that weighted the most among my game description data after performing Tfidf. I will go over the top five here to see if it's reasonable, if the word doesn't have any meaning in terms of determine my features, I will drop them.\n",
    "\n",
    "After eliminating and adding the words that doesn't have meaning to stopwords. The three most weighted words are marble, drew and pinball. \n",
    "Marble, pinball, golf, and tennis are all in common. Whereas poker and solitaire are in commons as well."
   ]
  },
  {
   "cell_type": "markdown",
   "metadata": {},
   "source": [
    "This will match the index which is the game_id from game_description before I perform the tfidf. Since the position for the index is the same as game_description is the same. This will represent each game_id with the corresponding features after tfidf. "
   ]
  },
  {
   "cell_type": "code",
   "execution_count": 90,
   "metadata": {},
   "outputs": [],
   "source": [
    "game_tfidf.index = game_description.index"
   ]
  },
  {
   "cell_type": "markdown",
   "metadata": {},
   "source": [
    "The NaNs here means that the game doesn't have that particular feature. Therefore, I will fill in 0 in all with all the NaN values. "
   ]
  },
  {
   "cell_type": "code",
   "execution_count": 92,
   "metadata": {},
   "outputs": [],
   "source": [
    "game_tfidf.fillna(0, inplace=True)"
   ]
  },
  {
   "cell_type": "markdown",
   "metadata": {},
   "source": [
    "I will first convert my game_tfidf DataFrame `to_dense()` and become a `pandas.core.fram.DataFrame`, this will allow me to merge with game_features DataFrame. I then, will convert the game_final to a sparse data. Sparse objects are \"compressed\" when any data matching a specific value, this will increase the compute efficiency"
   ]
  },
  {
   "cell_type": "code",
   "execution_count": 93,
   "metadata": {},
   "outputs": [],
   "source": [
    "game_tfidf = game_tfidf.to_dense()\n",
    "\n",
    "game_final = pd.merge(game_tfidf, game_features,left_index=True,right_index=True)\n",
    "\n",
    "game_final = game_final.to_sparse()"
   ]
  },
  {
   "cell_type": "markdown",
   "metadata": {},
   "source": [
    "My game_final is the final DataFrame that will proceed to the next step. We have 11,557 unique games and 6,760 unique features into account. "
   ]
  },
  {
   "cell_type": "code",
   "execution_count": 94,
   "metadata": {},
   "outputs": [
    {
     "data": {
      "text/plain": [
       "(11557, 6760)"
      ]
     },
     "execution_count": 94,
     "metadata": {},
     "output_type": "execute_result"
    }
   ],
   "source": [
    "game_final.shape"
   ]
  },
  {
   "cell_type": "markdown",
   "metadata": {},
   "source": [
    "#### My game_final DataFrame is too huge to convert to `csv` directly, therefore, I converted my game_final to a` sparse.coo` matrix and save it as `npz` file. However; I will loose my columns and unique index, so I save columns and index to `csv`. "
   ]
  },
  {
   "cell_type": "code",
   "execution_count": 95,
   "metadata": {},
   "outputs": [],
   "source": [
    "game_final_coo = game_final.to_coo()\n",
    "scipy.sparse.save_npz('./datas/game_final_coo.npz', game_final_coo)"
   ]
  },
  {
   "cell_type": "code",
   "execution_count": 96,
   "metadata": {},
   "outputs": [],
   "source": [
    "cols = pd.DataFrame(game_final.columns)\n",
    "cols.to_csv('./datas/game_final_cols.csv', header=False)\n",
    "\n",
    "index = pd.DataFrame(game_final.index)\n",
    "index.to_csv('./datas/game_final_insdex.csv', header=False)"
   ]
  },
  {
   "cell_type": "code",
   "execution_count": null,
   "metadata": {},
   "outputs": [],
   "source": []
  }
 ],
 "metadata": {
  "kernelspec": {
   "display_name": "Python 3",
   "language": "python",
   "name": "python3"
  },
  "language_info": {
   "codemirror_mode": {
    "name": "ipython",
    "version": 3
   },
   "file_extension": ".py",
   "mimetype": "text/x-python",
   "name": "python",
   "nbconvert_exporter": "python",
   "pygments_lexer": "ipython3",
   "version": "3.6.6"
  }
 },
 "nbformat": 4,
 "nbformat_minor": 2
}
